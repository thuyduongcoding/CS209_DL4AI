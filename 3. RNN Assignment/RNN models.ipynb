{
  "cells": [
    {
      "cell_type": "markdown",
      "metadata": {
        "id": "fcIJWCymS6CO"
      },
      "source": [
        "# Assignment 3: Recurrent Neural Network (RNN) {-}\n",
        "\n",
        "This assignment aims at familiarizing you with training, validating and testing Recurrent Neural Networks (RNNs). Here are the BASIC requirements of the assignment:\n",
        "\n",
        "BASIC requirements:\n",
        "- Load the data.\n",
        "- Analyze the data.\n",
        "- Process the data.\n",
        "- Build a RNN model using GRU (https://www.tensorflow.org/api_docs/python/tf/keras/layers/GRU) instead of LSTM as in the demo code.\n",
        "- Train and validate the RNN model (with GRU) to perform the movie review classification.\n",
        "- Evaluate the performance of the model on the test set.\n",
        "- Compare the accuracy and the running time between GRU and LSTM.\n",
        "- Visualize the model behaviour during the training.\n",
        "\n",
        "EXTRA CREDIT if all of the following requirements are fulfilled:\n",
        "- Build a RNN model using Bi-LSTM (https://www.tensorflow.org/api_docs/python/tf/keras/layers/Bidirectional). Compare the accuracy and the running time between Bi-LSTM and the others (GRU, LSTM).\n",
        "- Build a RNN model using 1D-Convolution (https://www.tensorflow.org/api_docs/python/tf/keras/layers/Conv1D). Compare the accuracy and the running time between 1D-Convolution and the others (Bi-LSTM, GRU, LSTM).\n",
        "- Apply transfer learning with the pre-trained word vectors GloVe (https://nlp.stanford.edu/projects/glove/). Observe the accuracy of the model with and without using transfer learning, then give conclusion.\n",
        "\n",
        "The dataset you will be working on is imdb_reviews. This dataset is a large movie review dataset. This dataset is for binary sentiment classification containing a set of 25,000 highly polar movie reviews for training, and 25,000 for testing. All the reviews have either a positive or negative sentiment. Reference: http://ai.stanford.edu/~amaas/data/sentiment/\n",
        "\n",
        "Each data sample contains:\n",
        "- label (tf.int64)\n",
        "- text (tf.string)\n",
        "\n",
        "### Submission {-}\n",
        "The structure of submission folder should be organized as follows:\n",
        "\n",
        "- ./\\<StudentID>-assignment3-notebook.ipynb: Jupyter notebook containing source code.\n",
        "\n",
        "The submission folder is named DL4AI-\\<StudentID>-Assignment3 (e.g., DL4AI-2012345-Assigment3) and then compressed with the same name.\n",
        "\n",
        "### Evaluation {-}\n",
        "Assignment evaluation will be conducted on how you accomplish the assignment requirements. The model accuracy on the test set is one of the most important evaluation criteria. Therefore try to push it as high as possible. In addition, your code should conform to a Python coding convention such as PEP-8.\n",
        "\n",
        "### Deadline {-}\n",
        "Please visit Canvas for details."
      ]
    },
    {
      "cell_type": "markdown",
      "source": [
        "## Import library"
      ],
      "metadata": {
        "id": "MlHfUM4Mtsma"
      }
    },
    {
      "cell_type": "code",
      "execution_count": 1,
      "metadata": {
        "colab": {
          "base_uri": "https://localhost:8080/"
        },
        "id": "VNgpdsl4S7k3",
        "outputId": "1e0074b7-10eb-438f-ef3e-90e2632a0053"
      },
      "outputs": [
        {
          "output_type": "stream",
          "name": "stdout",
          "text": [
            "Looking in indexes: https://pypi.org/simple, https://us-python.pkg.dev/colab-wheels/public/simple/\n",
            "Requirement already satisfied: tensorflow_datasets in /usr/local/lib/python3.10/dist-packages (4.9.2)\n",
            "Requirement already satisfied: absl-py in /usr/local/lib/python3.10/dist-packages (from tensorflow_datasets) (1.4.0)\n",
            "Requirement already satisfied: array-record in /usr/local/lib/python3.10/dist-packages (from tensorflow_datasets) (0.2.0)\n",
            "Requirement already satisfied: click in /usr/local/lib/python3.10/dist-packages (from tensorflow_datasets) (8.1.3)\n",
            "Requirement already satisfied: dm-tree in /usr/local/lib/python3.10/dist-packages (from tensorflow_datasets) (0.1.8)\n",
            "Requirement already satisfied: etils[enp,epath]>=0.9.0 in /usr/local/lib/python3.10/dist-packages (from tensorflow_datasets) (1.2.0)\n",
            "Requirement already satisfied: numpy in /usr/local/lib/python3.10/dist-packages (from tensorflow_datasets) (1.22.4)\n",
            "Requirement already satisfied: promise in /usr/local/lib/python3.10/dist-packages (from tensorflow_datasets) (2.3)\n",
            "Requirement already satisfied: protobuf>=3.20 in /usr/local/lib/python3.10/dist-packages (from tensorflow_datasets) (3.20.3)\n",
            "Requirement already satisfied: psutil in /usr/local/lib/python3.10/dist-packages (from tensorflow_datasets) (5.9.5)\n",
            "Requirement already satisfied: requests>=2.19.0 in /usr/local/lib/python3.10/dist-packages (from tensorflow_datasets) (2.27.1)\n",
            "Requirement already satisfied: tensorflow-metadata in /usr/local/lib/python3.10/dist-packages (from tensorflow_datasets) (1.13.1)\n",
            "Requirement already satisfied: termcolor in /usr/local/lib/python3.10/dist-packages (from tensorflow_datasets) (2.3.0)\n",
            "Requirement already satisfied: toml in /usr/local/lib/python3.10/dist-packages (from tensorflow_datasets) (0.10.2)\n",
            "Requirement already satisfied: tqdm in /usr/local/lib/python3.10/dist-packages (from tensorflow_datasets) (4.65.0)\n",
            "Requirement already satisfied: wrapt in /usr/local/lib/python3.10/dist-packages (from tensorflow_datasets) (1.14.1)\n",
            "Requirement already satisfied: importlib_resources in /usr/local/lib/python3.10/dist-packages (from etils[enp,epath]>=0.9.0->tensorflow_datasets) (5.12.0)\n",
            "Requirement already satisfied: typing_extensions in /usr/local/lib/python3.10/dist-packages (from etils[enp,epath]>=0.9.0->tensorflow_datasets) (4.5.0)\n",
            "Requirement already satisfied: zipp in /usr/local/lib/python3.10/dist-packages (from etils[enp,epath]>=0.9.0->tensorflow_datasets) (3.15.0)\n",
            "Requirement already satisfied: urllib3<1.27,>=1.21.1 in /usr/local/lib/python3.10/dist-packages (from requests>=2.19.0->tensorflow_datasets) (1.26.15)\n",
            "Requirement already satisfied: certifi>=2017.4.17 in /usr/local/lib/python3.10/dist-packages (from requests>=2.19.0->tensorflow_datasets) (2022.12.7)\n",
            "Requirement already satisfied: charset-normalizer~=2.0.0 in /usr/local/lib/python3.10/dist-packages (from requests>=2.19.0->tensorflow_datasets) (2.0.12)\n",
            "Requirement already satisfied: idna<4,>=2.5 in /usr/local/lib/python3.10/dist-packages (from requests>=2.19.0->tensorflow_datasets) (3.4)\n",
            "Requirement already satisfied: six in /usr/local/lib/python3.10/dist-packages (from promise->tensorflow_datasets) (1.16.0)\n",
            "Requirement already satisfied: googleapis-common-protos<2,>=1.52.0 in /usr/local/lib/python3.10/dist-packages (from tensorflow-metadata->tensorflow_datasets) (1.59.0)\n"
          ]
        }
      ],
      "source": [
        "# Note: to enable GPU training in Colab, go to Runtime > Change runtime type > Hardware acceleration > Choose GPU from the drop-down list.\n",
        "\n",
        "# Download tensorflow datasets\n",
        "!pip install tensorflow_datasets\n",
        "\n",
        "# Import libraries\n",
        "import numpy as np\n",
        "import tensorflow_datasets as tfds\n",
        "import tensorflow as tf\n",
        "import matplotlib.pyplot as plt\n",
        "import seaborn as sns"
      ]
    },
    {
      "cell_type": "code",
      "source": [
        "from tensorflow.keras.layers import GRU, LSTM, Dense, Input, TextVectorization, Embedding, Bidirectional, Conv1D, Flatten, MaxPooling1D"
      ],
      "metadata": {
        "id": "tEQ2CMSafxqe"
      },
      "execution_count": 2,
      "outputs": []
    },
    {
      "cell_type": "markdown",
      "source": [
        "## Load the dataset"
      ],
      "metadata": {
        "id": "MsQCn9Msteed"
      }
    },
    {
      "cell_type": "code",
      "execution_count": 3,
      "metadata": {
        "colab": {
          "base_uri": "https://localhost:8080/",
          "referenced_widgets": [
            "0ce26ab8f24e4b088ddfbe3fa13423ed",
            "b5b372f835064139b3b00fcb9f01cb9c",
            "cf8cb86252234b3c81c1e8ddc6da20af",
            "198482e0010e4ae6bb221a0a8b1e7c07",
            "f0ad7c43b2c14631a9d6f3a9918e9fe9",
            "5c617bddec014c29b1bc9615f2217e6b",
            "f9f9afb997104191834e59ed3cfb500d",
            "c459c4aeac084c1abd5f28e1b75943d1",
            "e7669af410e946b08617ed8a9074d971",
            "2fb254c749ee4ee9a235a481c6178c18",
            "c72348337c984a4f8693d07fa0da387d",
            "54b441ab25934cc89981afb0189eeb78",
            "612e6f6c294b4dacad50e064fb4a1412",
            "300e9f47903d4a93b2829b1de3cc2c1b",
            "1fd7bb7438c64301aaadf9197c8da696",
            "bc9cd6bbc5ff41fabc9c1dbc4d7ce849",
            "652cd229c0b14dd5b5a61a66c9964999",
            "13713fc6e79e40f08e26061ccc3a1621",
            "ef6bb32084f74352ac3573a1adf18950",
            "e4dd5baa639f43ec8134121e5824daa0",
            "80bb8562723f4fd297cccdb1193caf76",
            "8682752ff18145cd976dc9575e972427",
            "e374c78600a4490c8ff41c4095e1aefb",
            "3ccd36492a654085ba56600ded36a5b9",
            "a60b223e5b0d40a5887d30ba17e4789e",
            "70354249e1934a5ca28c3a269fbe8c34",
            "3c05fad591974612ba4daa2805dcf8fe",
            "ec4aadc2d8ff45b5b48d71484de827a9",
            "9d36a82568c747ce9c89fe55c4c31b54",
            "05c582c14b7d47688bd3268b2e2c1ce1",
            "b60a3689162d4106b49b1fdeba059c24",
            "988b55b0c21d4acf99ea580a634bc8e7",
            "1763d648ab7a48dda170037e8b92042a",
            "e808956e46934fa5800a65260c3d2c90",
            "f5c10dec7b074c88865ddd65f44938a0",
            "49e6de938bce4982a2bc3ff515a53d56",
            "def4e3d6c0b04dd8a3df1f812e96a39d",
            "b62e33866aca487a933e48e54af92913",
            "53568da829a241a78b9cea563f5450d8",
            "df9691b236ce400e98dd5759ec8747cc",
            "367c2035c548453d8283084dc15ac78f",
            "d809d9677eea469bbc090954e00605e1",
            "e2a1a07fad9847d096bd44a19a2dd30a",
            "64f879439a35439ab11cfa297c881621",
            "b607f49a66d940ee9010e5734c5a3919",
            "8b13783bf2ba4463a31ad221cbb7f71a",
            "1e612cdab33645798391db7342b21ced",
            "b60b6ebffd854fd78040c2e9ba8bd64c",
            "f8cead885d404a3782d736ad49e90e29",
            "d7338e1ac132453dac1dfeb7c6f23495",
            "59c7bc15ffe746e6941522ce555a4a5e",
            "f78cd698d5ac45df8516e6754d94c066",
            "d93312884b694eac837bf499e248cd05",
            "88a039c6575144c5a89afdc1be437157",
            "83d1e59c4c6946ec8f458eb6a3245e27",
            "aa8e81322a1d4b70b46c757a327febba",
            "f8e118797f954b2a994ba0b638951603",
            "ebf99b7ecd9a4678af493254fd676677",
            "f4135432ccfb447ca2c480099f9f39b9",
            "916d1ef789794d81ad5011295fc0c0d4",
            "3e037d17a9d149db93eaf129a5d6bd9e",
            "5531410c6b584580aad666d956fec736",
            "16362fd2908148a2a834eff1dfc91138",
            "b04f2508540e4b13835734ccfe36eabd",
            "6da5dff48c014c4cb3c12df68983f5b7",
            "cd1461f1544e428bbe342f26f8ce342f",
            "61b6ee719c3246348b1a3d06f79bc91d",
            "e0b7a784a39445298bc32e6bdac5d53b",
            "abcb7f68197945338cbe9fe0a3b620a9",
            "3c437cbb3b964acea2a5e7f52ed18182",
            "741cd6eceb1c432ea2243dba0dd3542c",
            "f212fcb72c3d49d98526dab5aeee0781",
            "98d642746f23428daee6d83be5bc7331",
            "17e5693cd8e7461a8d19d612fa3d2358",
            "775544f9144345a3accef01b05bd179f",
            "b38c665a6fb144919c6cb106f014e7cd",
            "c60ba0155882483b931a651566af0c5b",
            "21e485c0a35f43b3ab8c81333c74a013",
            "d9e6af55c3d14ee2a42368d1dd3e8faa",
            "1d818bff1cc04847b7953cd3fb8d4bce",
            "9330f44ad9e34a4ca04fba82ed413b1d",
            "0d1430419a53459c9997683ab4a75bb5",
            "464fc54df9004e559f9da69b11137ec1",
            "d4f8a8a02bb543cda119bbe82af8d2ab",
            "c447a6b390944bf3bc2bb62ac65be059",
            "6429504636e549079b7f756e6733ca2f",
            "17352da62a9b4b508d751430d2af1178",
            "efb8836e434a4f27a4cd3acf2f01be2b",
            "120252394151480db6cf85679abdfcd0",
            "da63597d3661415689c5f7844a6ae142",
            "c63219cfefe443d5babdf9e882d6a607",
            "8d325b845fb4407a9fff5343221646dd",
            "698717b4129348d59e9baa2915e845bf",
            "1c95f0e3d6d8478caeae08b61fc212a7",
            "94326407f6cf45d59aa6a85c7d7b30a1",
            "6788cdae40794c58a5ef0f9dedd6a3c8",
            "c1f728caca78414ab67e57bf231d3968",
            "1a7de7104b4a46ceb636c1b657ad3b40",
            "2b835b794af743a0ba68334de9f5331b"
          ],
          "height": 188
        },
        "id": "z8lnCdEAgzdh",
        "outputId": "8a31f965-27af-45ef-826b-7657d4af2bbb"
      },
      "outputs": [
        {
          "output_type": "stream",
          "name": "stdout",
          "text": [
            "Downloading and preparing dataset 80.23 MiB (download: 80.23 MiB, generated: Unknown size, total: 80.23 MiB) to /root/tensorflow_datasets/imdb_reviews/plain_text/1.0.0...\n"
          ]
        },
        {
          "output_type": "display_data",
          "data": {
            "text/plain": [
              "Dl Completed...: 0 url [00:00, ? url/s]"
            ],
            "application/vnd.jupyter.widget-view+json": {
              "version_major": 2,
              "version_minor": 0,
              "model_id": "0ce26ab8f24e4b088ddfbe3fa13423ed"
            }
          },
          "metadata": {}
        },
        {
          "output_type": "display_data",
          "data": {
            "text/plain": [
              "Dl Size...: 0 MiB [00:00, ? MiB/s]"
            ],
            "application/vnd.jupyter.widget-view+json": {
              "version_major": 2,
              "version_minor": 0,
              "model_id": "54b441ab25934cc89981afb0189eeb78"
            }
          },
          "metadata": {}
        },
        {
          "output_type": "display_data",
          "data": {
            "text/plain": [
              "Generating splits...:   0%|          | 0/3 [00:00<?, ? splits/s]"
            ],
            "application/vnd.jupyter.widget-view+json": {
              "version_major": 2,
              "version_minor": 0,
              "model_id": "e374c78600a4490c8ff41c4095e1aefb"
            }
          },
          "metadata": {}
        },
        {
          "output_type": "display_data",
          "data": {
            "text/plain": [
              "Generating train examples...:   0%|          | 0/25000 [00:00<?, ? examples/s]"
            ],
            "application/vnd.jupyter.widget-view+json": {
              "version_major": 2,
              "version_minor": 0,
              "model_id": "e808956e46934fa5800a65260c3d2c90"
            }
          },
          "metadata": {}
        },
        {
          "output_type": "display_data",
          "data": {
            "text/plain": [
              "Shuffling /root/tensorflow_datasets/imdb_reviews/plain_text/1.0.0.incompleteH1VL49/imdb_reviews-train.tfrecord…"
            ],
            "application/vnd.jupyter.widget-view+json": {
              "version_major": 2,
              "version_minor": 0,
              "model_id": "b607f49a66d940ee9010e5734c5a3919"
            }
          },
          "metadata": {}
        },
        {
          "output_type": "display_data",
          "data": {
            "text/plain": [
              "Generating test examples...:   0%|          | 0/25000 [00:00<?, ? examples/s]"
            ],
            "application/vnd.jupyter.widget-view+json": {
              "version_major": 2,
              "version_minor": 0,
              "model_id": "aa8e81322a1d4b70b46c757a327febba"
            }
          },
          "metadata": {}
        },
        {
          "output_type": "display_data",
          "data": {
            "text/plain": [
              "Shuffling /root/tensorflow_datasets/imdb_reviews/plain_text/1.0.0.incompleteH1VL49/imdb_reviews-test.tfrecord*…"
            ],
            "application/vnd.jupyter.widget-view+json": {
              "version_major": 2,
              "version_minor": 0,
              "model_id": "61b6ee719c3246348b1a3d06f79bc91d"
            }
          },
          "metadata": {}
        },
        {
          "output_type": "display_data",
          "data": {
            "text/plain": [
              "Generating unsupervised examples...:   0%|          | 0/50000 [00:00<?, ? examples/s]"
            ],
            "application/vnd.jupyter.widget-view+json": {
              "version_major": 2,
              "version_minor": 0,
              "model_id": "21e485c0a35f43b3ab8c81333c74a013"
            }
          },
          "metadata": {}
        },
        {
          "output_type": "display_data",
          "data": {
            "text/plain": [
              "Shuffling /root/tensorflow_datasets/imdb_reviews/plain_text/1.0.0.incompleteH1VL49/imdb_reviews-unsupervised.t…"
            ],
            "application/vnd.jupyter.widget-view+json": {
              "version_major": 2,
              "version_minor": 0,
              "model_id": "120252394151480db6cf85679abdfcd0"
            }
          },
          "metadata": {}
        },
        {
          "output_type": "stream",
          "name": "stdout",
          "text": [
            "Dataset imdb_reviews downloaded and prepared to /root/tensorflow_datasets/imdb_reviews/plain_text/1.0.0. Subsequent calls will reuse this data.\n",
            "Training set:  20000 samples\n",
            "Validation set:  5000 samples\n",
            "Test set:  25000 samples\n"
          ]
        }
      ],
      "source": [
        "# Load the IMDB movie review dataset, return text (movie review) and label (positive/negative)\n",
        "train_dataset, val_dataset, test_dataset = tfds.load(name=\"imdb_reviews\", split=('train[:80%]', 'train[80%:]', 'test'), as_supervised=True)\n",
        "\n",
        "print(\"Training set: \", len(train_dataset), \"samples\")\n",
        "print(\"Validation set: \", len(val_dataset), \"samples\")\n",
        "print(\"Test set: \", len(test_dataset), \"samples\")"
      ]
    },
    {
      "cell_type": "code",
      "execution_count": 4,
      "metadata": {
        "id": "qfA1RgtnYC_A",
        "outputId": "49a9f237-102a-4e2a-8de8-addfc3fdc2f6",
        "colab": {
          "base_uri": "https://localhost:8080/"
        }
      },
      "outputs": [
        {
          "output_type": "stream",
          "name": "stdout",
          "text": [
            "text:  b\"This was an absolutely terrible movie. Don't be lured in by Christopher Walken or Michael Ironside. Both are great actors, but this must simply be their worst role in history. Even their great acting could not redeem this movie's ridiculous storyline. This movie is an early nineties US propaganda piece. The most pathetic scenes were those when the Columbian rebels were making their cases for revolutions. Maria Conchita Alonso appeared phony, and her pseudo-love affair with Walken was nothing but a pathetic emotional plug in a movie that was devoid of any real meaning. I am disappointed that there are movies like this, ruining actor's like Christopher Walken's good name. I could barely sit through it.\"\n",
            "label:  0\n",
            "text:  b'I have been known to fall asleep during films, but this is usually due to a combination of things including, really tired, being warm and comfortable on the sette and having just eaten a lot. However on this occasion I fell asleep because the film was rubbish. The plot development was constant. Constantly slow and boring. Things seemed to happen, but with no explanation of what was causing them or why. I admit, I may have missed part of the film, but i watched the majority of it and everything just seemed to happen of its own accord without any real concern for anything else. I cant recommend this film at all.'\n",
            "label:  0\n"
          ]
        }
      ],
      "source": [
        "# Show same samples in the training set\n",
        "for example, label in train_dataset.take(2):\n",
        "  print('text: ', example.numpy())\n",
        "  print('label: ', label.numpy())"
      ]
    },
    {
      "cell_type": "markdown",
      "source": [
        "## Preprocess the dataset"
      ],
      "metadata": {
        "id": "i37QWeGetnJJ"
      }
    },
    {
      "cell_type": "markdown",
      "source": [
        "### Train/Val/Test split"
      ],
      "metadata": {
        "id": "EAI8guCg8dnw"
      }
    },
    {
      "cell_type": "code",
      "source": [
        "dataset_list = [train_dataset, val_dataset, test_dataset]\n",
        "\n",
        "# Use list comprehension to convert each dataset to numpy arrays of X and y\n",
        "X, y = zip(*[(np.array([x[0] for x in tfds.as_numpy(dataset)]), \n",
        "              np.array([x[1] for x in tfds.as_numpy(dataset)]).astype(np.int16)) \n",
        "             for dataset in dataset_list])\n",
        "\n",
        "# Unpack the resulting list into separate variables\n",
        "X_train, X_val, X_test = X\n",
        "y_train, y_val, y_test = y\n"
      ],
      "metadata": {
        "id": "oU322z9W7r9v"
      },
      "execution_count": 5,
      "outputs": []
    },
    {
      "cell_type": "code",
      "source": [
        "# Check the shape of 3 datasets\n",
        "print(\"X_train shape: \" + str(X_train.shape))\n",
        "print(\"y_train shape: \" + str(y_train.shape))\n",
        "\n",
        "print(\"X_val shape: \" + str(X_val.shape))\n",
        "print(\"y_val shape: \" + str(y_val.shape))\n",
        "\n",
        "print(\"X_test shape: \" + str(X_test.shape))\n",
        "print(\"y_test shape: \" + str(y_test.shape))"
      ],
      "metadata": {
        "colab": {
          "base_uri": "https://localhost:8080/"
        },
        "id": "0_ndyA9d7tYx",
        "outputId": "c9e14c55-31bf-4b87-d910-91f731db6087"
      },
      "execution_count": 6,
      "outputs": [
        {
          "output_type": "stream",
          "name": "stdout",
          "text": [
            "X_train shape: (20000,)\n",
            "y_train shape: (20000,)\n",
            "X_val shape: (5000,)\n",
            "y_val shape: (5000,)\n",
            "X_test shape: (25000,)\n",
            "y_test shape: (25000,)\n"
          ]
        }
      ]
    },
    {
      "cell_type": "markdown",
      "source": [
        "### Encode the text"
      ],
      "metadata": {
        "id": "6JYpVl6Q8juo"
      }
    },
    {
      "cell_type": "markdown",
      "source": [
        "Initialize and build the text vectorizer"
      ],
      "metadata": {
        "id": "NDkyQTLB8xrs"
      }
    },
    {
      "cell_type": "code",
      "source": [
        "### TextVectorization layer maps text features to interger sequences\n",
        "# Set vocabulary size for the training data\n",
        "VOCAB_SIZE = 1000 \n",
        "\n",
        "# Initialize TextVectorization layer for raw text encoding\n",
        "text_encoder = tf.keras.layers.TextVectorization(standardize = 'lower_and_strip_punctuation', max_tokens = VOCAB_SIZE)\n",
        "\n",
        "# Feed training data to adapt() method to calculate the layer's volcabulary\n",
        "text_encoder.adapt(X_train)"
      ],
      "metadata": {
        "id": "OpBvMH0f8nG1"
      },
      "execution_count": 7,
      "outputs": []
    },
    {
      "cell_type": "code",
      "source": [
        "vocab = np.array(text_encoder.get_vocabulary())\n",
        "print('Vocabulary size: ', vocab.shape)\n",
        "vocab[:20]"
      ],
      "metadata": {
        "colab": {
          "base_uri": "https://localhost:8080/"
        },
        "id": "bpFRcCtebCw_",
        "outputId": "148e6246-9b6a-4b76-a96c-8bd5ad6ef34d"
      },
      "execution_count": 8,
      "outputs": [
        {
          "output_type": "stream",
          "name": "stdout",
          "text": [
            "Vocabulary size:  (1000,)\n"
          ]
        },
        {
          "output_type": "execute_result",
          "data": {
            "text/plain": [
              "array(['', '[UNK]', 'the', 'and', 'a', 'of', 'to', 'is', 'in', 'it', 'i',\n",
              "       'this', 'that', 'br', 'was', 'as', 'for', 'with', 'movie', 'but'],\n",
              "      dtype='<U14')"
            ]
          },
          "metadata": {},
          "execution_count": 8
        }
      ]
    },
    {
      "cell_type": "markdown",
      "source": [
        "Test the vectorizer"
      ],
      "metadata": {
        "id": "umISp5PtdFnr"
      }
    },
    {
      "cell_type": "code",
      "source": [
        "# Create a model using TextVectorization layer\n",
        "model_encoder = tf.keras.models.Sequential()\n",
        "\n",
        "# Creating explicit input layer with shape (1,) to ensure exactly one string input per batch\n",
        "model_encoder.add(tf.keras.Input(shape=(1,), dtype = tf.string))\n",
        "\n",
        "# Adding TextVectorization layer to the model. Output is a tensor of shape(batch_size, max_len)\n",
        "model_encoder.add(text_encoder)\n",
        "\n",
        "# Testing with the sample sentences\n",
        "test_data = [['Deep Learning is fun'], ['Deep Learning is difficult to understand sad']]\n",
        "model_encoder.predict(test_data)"
      ],
      "metadata": {
        "id": "iAYToVMI-dMs",
        "colab": {
          "base_uri": "https://localhost:8080/"
        },
        "outputId": "51ab4ad3-6886-4204-dfac-b505441953d6"
      },
      "execution_count": 9,
      "outputs": [
        {
          "output_type": "stream",
          "name": "stdout",
          "text": [
            "1/1 [==============================] - 0s 144ms/step\n"
          ]
        },
        {
          "output_type": "execute_result",
          "data": {
            "text/plain": [
              "array([[961,   1,   7, 252,   0,   0,   0],\n",
              "       [961,   1,   7, 833,   6, 375, 627]])"
            ]
          },
          "metadata": {},
          "execution_count": 9
        }
      ]
    },
    {
      "cell_type": "code",
      "source": [
        "print('Original: ', X_train[0])\n",
        "print(\" \")\n",
        "print(\"Round trip: \", \" \".join(vocab[text_encoder(X_train[0]).numpy()]))"
      ],
      "metadata": {
        "colab": {
          "base_uri": "https://localhost:8080/"
        },
        "id": "WhDPjv7Saeky",
        "outputId": "245a881b-cc0c-4d3f-9fbd-fb924084d567"
      },
      "execution_count": 10,
      "outputs": [
        {
          "output_type": "stream",
          "name": "stdout",
          "text": [
            "Original:  b\"This was an absolutely terrible movie. Don't be lured in by Christopher Walken or Michael Ironside. Both are great actors, but this must simply be their worst role in history. Even their great acting could not redeem this movie's ridiculous storyline. This movie is an early nineties US propaganda piece. The most pathetic scenes were those when the Columbian rebels were making their cases for revolutions. Maria Conchita Alonso appeared phony, and her pseudo-love affair with Walken was nothing but a pathetic emotional plug in a movie that was devoid of any real meaning. I am disappointed that there are movies like this, ruining actor's like Christopher Walken's good name. I could barely sit through it.\"\n",
            " \n",
            "Round trip:  this was an absolutely terrible movie dont be [UNK] in by [UNK] [UNK] or michael [UNK] both are great actors but this must simply be their worst role in history even their great acting could not [UNK] this movies ridiculous storyline this movie is an early [UNK] us [UNK] piece the most [UNK] scenes were those when the [UNK] [UNK] were making their [UNK] for [UNK] [UNK] [UNK] [UNK] [UNK] [UNK] and her [UNK] [UNK] with [UNK] was nothing but a [UNK] emotional [UNK] in a movie that was [UNK] of any real [UNK] i am disappointed that there are movies like this [UNK] actors like [UNK] [UNK] good name i could [UNK] sit through it\n"
          ]
        }
      ]
    },
    {
      "cell_type": "markdown",
      "source": [
        "## Analyze data"
      ],
      "metadata": {
        "id": "y5p6qFe5I1VG"
      }
    },
    {
      "cell_type": "code",
      "source": [
        "sns.countplot(x=y_train)\n",
        "plt.title(\"Number of positive and negative reviews in training set\")"
      ],
      "metadata": {
        "colab": {
          "base_uri": "https://localhost:8080/",
          "height": 469
        },
        "id": "jikaiU4eKLE8",
        "outputId": "5d4d2e87-2398-433d-ed11-67ab075a5d21"
      },
      "execution_count": 11,
      "outputs": [
        {
          "output_type": "execute_result",
          "data": {
            "text/plain": [
              "Text(0.5, 1.0, 'Number of positive and negative reviews in training set')"
            ]
          },
          "metadata": {},
          "execution_count": 11
        },
        {
          "output_type": "display_data",
          "data": {
            "text/plain": [
              "<Figure size 640x480 with 1 Axes>"
            ],
            "image/png": "[encoded data removed]"
          },
          "metadata": {}
        }
      ]
    },
    {
      "cell_type": "code",
      "source": [
        "sns.countplot(x=y_val)\n",
        "plt.title(\"Number of positive and negative reviews in validation set\")"
      ],
      "metadata": {
        "id": "QMDAQsiVI9YD",
        "colab": {
          "base_uri": "https://localhost:8080/",
          "height": 469
        },
        "outputId": "62a3ad56-2e67-4dcb-c07e-a31542f8129d"
      },
      "execution_count": 12,
      "outputs": [
        {
          "output_type": "execute_result",
          "data": {
            "text/plain": [
              "Text(0.5, 1.0, 'Number of positive and negative reviews in validation set')"
            ]
          },
          "metadata": {},
          "execution_count": 12
        },
        {
          "output_type": "display_data",
          "data": {
            "text/plain": [
              "<Figure size 640x480 with 1 Axes>"
            ],
            "image/png": "[encoded data removed]"
          },
          "metadata": {}
        }
      ]
    },
    {
      "cell_type": "code",
      "source": [
        "sns.countplot(x = y_test)\n",
        "plt.title(\"Number of positive and negative reviews in testing set\")"
      ],
      "metadata": {
        "colab": {
          "base_uri": "https://localhost:8080/",
          "height": 469
        },
        "id": "LZYqRd0LK01B",
        "outputId": "1a98643d-7012-4489-b2e3-04ec73f1627d"
      },
      "execution_count": 13,
      "outputs": [
        {
          "output_type": "execute_result",
          "data": {
            "text/plain": [
              "Text(0.5, 1.0, 'Number of positive and negative reviews in testing set')"
            ]
          },
          "metadata": {},
          "execution_count": 13
        },
        {
          "output_type": "display_data",
          "data": {
            "text/plain": [
              "<Figure size 640x480 with 1 Axes>"
            ],
            "image/png": "[encoded data removed]"
          },
          "metadata": {}
        }
      ]
    },
    {
      "cell_type": "markdown",
      "source": [
        "## 1. RNN model with LSTM"
      ],
      "metadata": {
        "id": "CyQe9vcQLihs"
      }
    },
    {
      "cell_type": "markdown",
      "source": [
        "### Build the model"
      ],
      "metadata": {
        "id": "WrTGBWs1LuZL"
      }
    },
    {
      "cell_type": "code",
      "source": [
        "# Initialize sequential model with LSTM layer\n",
        "lstm = tf.keras.models.Sequential([\n",
        "    text_encoder,\n",
        "    Embedding(\n",
        "        input_dim = len(text_encoder.get_vocabulary()) + 1,\n",
        "        output_dim = 64,\n",
        "        mask_zero = True),\n",
        "    LSTM(units=64),\n",
        "    Dense(64, activation = 'relu'),\n",
        "    Dense(1, activation = 'sigmoid')\n",
        "])"
      ],
      "metadata": {
        "id": "vvY_x1atLxNF"
      },
      "execution_count": 14,
      "outputs": []
    },
    {
      "cell_type": "code",
      "source": [
        "# Summarize the model\n",
        "lstm.summary()"
      ],
      "metadata": {
        "colab": {
          "base_uri": "https://localhost:8080/"
        },
        "id": "kNhdYD60MPsx",
        "outputId": "bd148f00-f1b6-42c9-8450-aa47d39a216d"
      },
      "execution_count": 15,
      "outputs": [
        {
          "output_type": "stream",
          "name": "stdout",
          "text": [
            "Model: \"sequential_1\"\n",
            "_________________________________________________________________\n",
            " Layer (type)                Output Shape              Param #   \n",
            "=================================================================\n",
            " text_vectorization (TextVec  (None, None)             0         \n",
            " torization)                                                     \n",
            "                                                                 \n",
            " embedding (Embedding)       (None, None, 64)          64064     \n",
            "                                                                 \n",
            " lstm (LSTM)                 (None, 64)                33024     \n",
            "                                                                 \n",
            " dense (Dense)               (None, 64)                4160      \n",
            "                                                                 \n",
            " dense_1 (Dense)             (None, 1)                 65        \n",
            "                                                                 \n",
            "=================================================================\n",
            "Total params: 101,313\n",
            "Trainable params: 101,313\n",
            "Non-trainable params: 0\n",
            "_________________________________________________________________\n"
          ]
        }
      ]
    },
    {
      "cell_type": "markdown",
      "source": [
        "### Train the model"
      ],
      "metadata": {
        "id": "mayisncRLotb"
      }
    },
    {
      "cell_type": "code",
      "source": [
        "lstm.compile(loss = 'binary_crossentropy',\n",
        "              optimizer = tf.keras.optimizers.Adam(1e-3), \n",
        "              metrics = ['accuracy'])\n",
        "\n",
        "lstm_history = lstm.fit(X_train, y_train, epochs = 20, batch_size = 2048, validation_data = (X_val, y_val))"
      ],
      "metadata": {
        "colab": {
          "base_uri": "https://localhost:8080/"
        },
        "outputId": "2b5da546-d671-4d4e-b855-9d956202bf71",
        "id": "ULjCdVF5MUcK"
      },
      "execution_count": 16,
      "outputs": [
        {
          "output_type": "stream",
          "name": "stdout",
          "text": [
            "Epoch 1/20\n",
            "10/10 [==============================] - 15s 470ms/step - loss: 0.6919 - accuracy: 0.5370 - val_loss: 0.6888 - val_accuracy: 0.5834\n",
            "Epoch 2/20\n",
            "10/10 [==============================] - 3s 320ms/step - loss: 0.6791 - accuracy: 0.6421 - val_loss: 0.6515 - val_accuracy: 0.6974\n",
            "Epoch 3/20\n",
            "10/10 [==============================] - 3s 331ms/step - loss: 0.6165 - accuracy: 0.6814 - val_loss: 0.6514 - val_accuracy: 0.5950\n",
            "Epoch 4/20\n",
            "10/10 [==============================] - 3s 291ms/step - loss: 0.6277 - accuracy: 0.6626 - val_loss: 0.6149 - val_accuracy: 0.7104\n",
            "Epoch 5/20\n",
            "10/10 [==============================] - 3s 284ms/step - loss: 0.6102 - accuracy: 0.6946 - val_loss: 0.6063 - val_accuracy: 0.6860\n",
            "Epoch 6/20\n",
            "10/10 [==============================] - 3s 326ms/step - loss: 0.5876 - accuracy: 0.7095 - val_loss: 0.5706 - val_accuracy: 0.7264\n",
            "Epoch 7/20\n",
            "10/10 [==============================] - 3s 345ms/step - loss: 0.5471 - accuracy: 0.7352 - val_loss: 0.5193 - val_accuracy: 0.7464\n",
            "Epoch 8/20\n",
            "10/10 [==============================] - 3s 320ms/step - loss: 0.4851 - accuracy: 0.7727 - val_loss: 0.4576 - val_accuracy: 0.7936\n",
            "Epoch 9/20\n",
            "10/10 [==============================] - 3s 327ms/step - loss: 0.4289 - accuracy: 0.8066 - val_loss: 0.4065 - val_accuracy: 0.8208\n",
            "Epoch 10/20\n",
            "10/10 [==============================] - 3s 340ms/step - loss: 0.3817 - accuracy: 0.8346 - val_loss: 0.3798 - val_accuracy: 0.8348\n",
            "Epoch 11/20\n",
            "10/10 [==============================] - 3s 331ms/step - loss: 0.3556 - accuracy: 0.8486 - val_loss: 0.3650 - val_accuracy: 0.8430\n",
            "Epoch 12/20\n",
            "10/10 [==============================] - 3s 319ms/step - loss: 0.3378 - accuracy: 0.8605 - val_loss: 0.3545 - val_accuracy: 0.8506\n",
            "Epoch 13/20\n",
            "10/10 [==============================] - 3s 319ms/step - loss: 0.3275 - accuracy: 0.8662 - val_loss: 0.3585 - val_accuracy: 0.8416\n",
            "Epoch 14/20\n",
            "10/10 [==============================] - 3s 352ms/step - loss: 0.3239 - accuracy: 0.8695 - val_loss: 0.3453 - val_accuracy: 0.8538\n",
            "Epoch 15/20\n",
            "10/10 [==============================] - 4s 385ms/step - loss: 0.3142 - accuracy: 0.8748 - val_loss: 0.3447 - val_accuracy: 0.8554\n",
            "Epoch 16/20\n",
            "10/10 [==============================] - 4s 360ms/step - loss: 0.3116 - accuracy: 0.8749 - val_loss: 0.3430 - val_accuracy: 0.8568\n",
            "Epoch 17/20\n",
            "10/10 [==============================] - 3s 328ms/step - loss: 0.3040 - accuracy: 0.8787 - val_loss: 0.3403 - val_accuracy: 0.8558\n",
            "Epoch 18/20\n",
            "10/10 [==============================] - 3s 332ms/step - loss: 0.2988 - accuracy: 0.8819 - val_loss: 0.3394 - val_accuracy: 0.8582\n",
            "Epoch 19/20\n",
            "10/10 [==============================] - 4s 446ms/step - loss: 0.2960 - accuracy: 0.8845 - val_loss: 0.3379 - val_accuracy: 0.8572\n",
            "Epoch 20/20\n",
            "10/10 [==============================] - 5s 506ms/step - loss: 0.2970 - accuracy: 0.8834 - val_loss: 0.3397 - val_accuracy: 0.8608\n"
          ]
        }
      ]
    },
    {
      "cell_type": "markdown",
      "source": [
        "### Evaluate the model"
      ],
      "metadata": {
        "id": "1vymoBrvLrGx"
      }
    },
    {
      "cell_type": "code",
      "source": [
        "# Visualize the loss of training and validation over time\n",
        "plt.plot(lstm_history.history['loss'])\n",
        "plt.plot(lstm_history.history['val_loss'])\n",
        "plt.legend(['train', 'val'], loc = 'upper right')\n",
        "plt.title('model loss')\n",
        "plt.ylabel('loss')\n",
        "plt.xlabel('epoch')\n",
        "plt.show()"
      ],
      "metadata": {
        "colab": {
          "base_uri": "https://localhost:8080/",
          "height": 472
        },
        "id": "hmIOGBjULlsI",
        "outputId": "395cdcd7-edc1-4fd3-9713-007f23d414f8"
      },
      "execution_count": 17,
      "outputs": [
        {
          "output_type": "display_data",
          "data": {
            "text/plain": [
              "<Figure size 640x480 with 1 Axes>"
            ],
            "image/png": "[encoded data removed]"
          },
          "metadata": {}
        }
      ]
    },
    {
      "cell_type": "code",
      "source": [
        "# Visualize the accuracy of training and validation over time\n",
        "plt.plot(lstm_history.history['accuracy'])\n",
        "plt.plot(lstm_history.history['val_accuracy'])\n",
        "plt.legend(['train', 'val'], loc = 'upper left')\n",
        "plt.title('model accuracy')\n",
        "plt.ylabel('accuracy')\n",
        "plt.xlabel('epoch')\n",
        "plt.show()"
      ],
      "metadata": {
        "colab": {
          "base_uri": "https://localhost:8080/",
          "height": 472
        },
        "id": "kd2eGpA4MeJ1",
        "outputId": "84544d60-2e2d-464c-f1e4-8dacb7ff1e49"
      },
      "execution_count": 18,
      "outputs": [
        {
          "output_type": "display_data",
          "data": {
            "text/plain": [
              "<Figure size 640x480 with 1 Axes>"
            ],
            "image/png": "[encoded data removed]"
          },
          "metadata": {}
        }
      ]
    },
    {
      "cell_type": "code",
      "source": [
        "# Evaluate on the test set\n",
        "test_loss, test_accuracy = lstm.evaluate(X_test, y_test)\n",
        "print(\"Test loss: \", test_loss)\n",
        "print(\"Test accuracy: \", test_accuracy)"
      ],
      "metadata": {
        "colab": {
          "base_uri": "https://localhost:8080/"
        },
        "id": "8opcpeNOMjRt",
        "outputId": "5d1bb195-a53b-433b-a4c2-435ca9c42834"
      },
      "execution_count": 20,
      "outputs": [
        {
          "output_type": "stream",
          "name": "stdout",
          "text": [
            "782/782 [==============================] - 12s 15ms/step - loss: 0.3345 - accuracy: 0.8595\n",
            "Test loss:  0.3345392048358917\n",
            "Test accuracy:  0.8594800233840942\n"
          ]
        }
      ]
    },
    {
      "cell_type": "markdown",
      "source": [
        "## 2. RNN model with GRU"
      ],
      "metadata": {
        "id": "tIXTWlzakpVN"
      }
    },
    {
      "cell_type": "markdown",
      "source": [
        "### Build the model: using GRU"
      ],
      "metadata": {
        "id": "OC1-u37-dJcU"
      }
    },
    {
      "cell_type": "code",
      "source": [
        "# Initialize sequential model with GRU layer\n",
        "gru_model = tf.keras.models.Sequential([\n",
        "    text_encoder,\n",
        "    Embedding(\n",
        "        input_dim = len(text_encoder.get_vocabulary()) + 1,\n",
        "        output_dim = 64,\n",
        "        mask_zero = True),\n",
        "    GRU(units=64),\n",
        "    Dense(64, activation = 'relu'),\n",
        "    Dense(1, activation = 'sigmoid')\n",
        "])"
      ],
      "metadata": {
        "id": "XC3xtEKdfCCt"
      },
      "execution_count": null,
      "outputs": []
    },
    {
      "cell_type": "code",
      "source": [
        "# Summarize the model\n",
        "gru_model.summary()"
      ],
      "metadata": {
        "colab": {
          "base_uri": "https://localhost:8080/"
        },
        "id": "Bysziw5ZggHA",
        "outputId": "a3eb51b8-5883-4bcb-e69c-ab55e9a78e77"
      },
      "execution_count": null,
      "outputs": [
        {
          "output_type": "stream",
          "name": "stdout",
          "text": [
            "Model: \"sequential_1\"\n",
            "_________________________________________________________________\n",
            " Layer (type)                Output Shape              Param #   \n",
            "=================================================================\n",
            " text_vectorization_1 (TextV  (None, None)             0         \n",
            " ectorization)                                                   \n",
            "                                                                 \n",
            " embedding (Embedding)       (None, None, 64)          64064     \n",
            "                                                                 \n",
            " gru (GRU)                   (None, 64)                24960     \n",
            "                                                                 \n",
            " dense (Dense)               (None, 64)                4160      \n",
            "                                                                 \n",
            " dense_1 (Dense)             (None, 1)                 65        \n",
            "                                                                 \n",
            "=================================================================\n",
            "Total params: 93,249\n",
            "Trainable params: 93,249\n",
            "Non-trainable params: 0\n",
            "_________________________________________________________________\n"
          ]
        }
      ]
    },
    {
      "cell_type": "code",
      "source": [
        "# Check if the layers after Embedding layer supporting masking\n",
        "print([layer.supports_masking for layer in gru_model.layers])"
      ],
      "metadata": {
        "colab": {
          "base_uri": "https://localhost:8080/"
        },
        "id": "60IMg53-gtYD",
        "outputId": "a918f10b-58b8-4882-a2d7-01a3701af3a2"
      },
      "execution_count": null,
      "outputs": [
        {
          "output_type": "stream",
          "name": "stdout",
          "text": [
            "[False, True, True, True, True]\n"
          ]
        }
      ]
    },
    {
      "cell_type": "markdown",
      "source": [
        "### Train the model"
      ],
      "metadata": {
        "id": "ZN0s7Q8ehL4e"
      }
    },
    {
      "cell_type": "code",
      "source": [
        "gru_model.compile(loss = 'binary_crossentropy',\n",
        "              optimizer = tf.keras.optimizers.Adam(1e-3), \n",
        "              metrics = ['accuracy'])\n",
        "\n",
        "gru_history = gru_model.fit(X_train, y_train, epochs = 20, batch_size = 2048, validation_data = (X_val, y_val))"
      ],
      "metadata": {
        "colab": {
          "base_uri": "https://localhost:8080/"
        },
        "id": "EEvMPELrhPOb",
        "outputId": "3e74cadc-66fd-475f-a3d7-db02fa1e3969"
      },
      "execution_count": null,
      "outputs": [
        {
          "output_type": "stream",
          "name": "stdout",
          "text": [
            "Epoch 1/20\n",
            "10/10 [==============================] - 16s 601ms/step - loss: 0.6924 - accuracy: 0.5134 - val_loss: 0.6910 - val_accuracy: 0.5748\n",
            "Epoch 2/20\n",
            "10/10 [==============================] - 3s 319ms/step - loss: 0.6871 - accuracy: 0.5910 - val_loss: 0.6819 - val_accuracy: 0.6076\n",
            "Epoch 3/20\n",
            "10/10 [==============================] - 3s 290ms/step - loss: 0.6662 - accuracy: 0.6372 - val_loss: 0.6455 - val_accuracy: 0.6456\n",
            "Epoch 4/20\n",
            "10/10 [==============================] - 3s 286ms/step - loss: 0.5916 - accuracy: 0.7022 - val_loss: 0.6016 - val_accuracy: 0.6572\n",
            "Epoch 5/20\n",
            "10/10 [==============================] - 4s 366ms/step - loss: 0.5664 - accuracy: 0.7009 - val_loss: 0.5738 - val_accuracy: 0.7014\n",
            "Epoch 6/20\n",
            "10/10 [==============================] - 3s 317ms/step - loss: 0.5383 - accuracy: 0.7308 - val_loss: 0.5351 - val_accuracy: 0.7256\n",
            "Epoch 7/20\n",
            "10/10 [==============================] - 3s 294ms/step - loss: 0.4987 - accuracy: 0.7567 - val_loss: 0.4782 - val_accuracy: 0.7774\n",
            "Epoch 8/20\n",
            "10/10 [==============================] - 3s 321ms/step - loss: 0.4292 - accuracy: 0.8117 - val_loss: 0.4088 - val_accuracy: 0.8202\n",
            "Epoch 9/20\n",
            "10/10 [==============================] - 4s 371ms/step - loss: 0.3748 - accuracy: 0.8382 - val_loss: 0.3783 - val_accuracy: 0.8344\n",
            "Epoch 10/20\n",
            "10/10 [==============================] - 3s 327ms/step - loss: 0.3437 - accuracy: 0.8536 - val_loss: 0.3699 - val_accuracy: 0.8334\n",
            "Epoch 11/20\n",
            "10/10 [==============================] - 3s 291ms/step - loss: 0.3323 - accuracy: 0.8619 - val_loss: 0.3594 - val_accuracy: 0.8430\n",
            "Epoch 12/20\n",
            "10/10 [==============================] - 3s 284ms/step - loss: 0.3169 - accuracy: 0.8691 - val_loss: 0.3506 - val_accuracy: 0.8500\n",
            "Epoch 13/20\n",
            "10/10 [==============================] - 3s 358ms/step - loss: 0.3086 - accuracy: 0.8730 - val_loss: 0.3436 - val_accuracy: 0.8550\n",
            "Epoch 14/20\n",
            "10/10 [==============================] - 3s 278ms/step - loss: 0.3055 - accuracy: 0.8758 - val_loss: 0.3437 - val_accuracy: 0.8542\n",
            "Epoch 15/20\n",
            "10/10 [==============================] - 3s 326ms/step - loss: 0.3043 - accuracy: 0.8771 - val_loss: 0.3462 - val_accuracy: 0.8572\n",
            "Epoch 16/20\n",
            "10/10 [==============================] - 3s 293ms/step - loss: 0.3018 - accuracy: 0.8772 - val_loss: 0.3545 - val_accuracy: 0.8478\n",
            "Epoch 17/20\n",
            "10/10 [==============================] - 3s 339ms/step - loss: 0.3068 - accuracy: 0.8759 - val_loss: 0.3444 - val_accuracy: 0.8544\n",
            "Epoch 18/20\n",
            "10/10 [==============================] - 3s 300ms/step - loss: 0.3035 - accuracy: 0.8797 - val_loss: 0.3454 - val_accuracy: 0.8542\n",
            "Epoch 19/20\n",
            "10/10 [==============================] - 3s 292ms/step - loss: 0.2960 - accuracy: 0.8813 - val_loss: 0.3427 - val_accuracy: 0.8578\n",
            "Epoch 20/20\n",
            "10/10 [==============================] - 3s 288ms/step - loss: 0.2949 - accuracy: 0.8825 - val_loss: 0.3522 - val_accuracy: 0.8556\n"
          ]
        }
      ]
    },
    {
      "cell_type": "markdown",
      "source": [
        "### Evaluate the model using GRU "
      ],
      "metadata": {
        "id": "O200Tu6djMQ9"
      }
    },
    {
      "cell_type": "code",
      "source": [
        "# Visualize the loss of training and validation over time\n",
        "plt.plot(gru_history.history['loss'])\n",
        "plt.plot(gru_history.history['val_loss'])\n",
        "plt.legend(['train', 'val'], loc = 'upper right')\n",
        "plt.title('model loss')\n",
        "plt.ylabel('loss')\n",
        "plt.xlabel('epoch')\n",
        "plt.show()"
      ],
      "metadata": {
        "colab": {
          "base_uri": "https://localhost:8080/"
        },
        "id": "_tzKwLwwjOOC",
        "outputId": "7572bec8-5460-43ad-b6e2-bf6f9a219c74"
      },
      "execution_count": null,
      "outputs": [
        {
          "output_type": "display_data",
          "data": {
            "text/plain": [
              "<Figure size 640x480 with 1 Axes>"
            ],
            "image/png": "[encoded data removed]"
          },
          "metadata": {}
        }
      ]
    },
    {
      "cell_type": "code",
      "source": [
        "# Visualize the loss of training and validation over time\n",
        "plt.plot(gru_history.history['accuracy'])\n",
        "plt.plot(gru_history.history['val_accuracy'])\n",
        "plt.legend(['train', 'val'], loc = 'upper left')\n",
        "plt.title('model accuracy')\n",
        "plt.ylabel('accuracy')\n",
        "plt.xlabel('epoch')\n",
        "plt.show()"
      ],
      "metadata": {
        "colab": {
          "base_uri": "https://localhost:8080/"
        },
        "id": "CASuUxCkjod3",
        "outputId": "992a526c-052c-4141-f580-77f9111ffba6"
      },
      "execution_count": null,
      "outputs": [
        {
          "output_type": "display_data",
          "data": {
            "text/plain": [
              "<Figure size 640x480 with 1 Axes>"
            ],
            "image/png": "[encoded data removed]"
          },
          "metadata": {}
        }
      ]
    },
    {
      "cell_type": "code",
      "source": [
        "# Evaluate on the test set\n",
        "test_loss, test_accuracy = gru_model.evaluate(X_test, y_test)\n",
        "print(\"Test loss: \", test_loss)\n",
        "print(\"Test accuracy: \", test_accuracy)"
      ],
      "metadata": {
        "colab": {
          "base_uri": "https://localhost:8080/"
        },
        "id": "kgAj191Xj-mo",
        "outputId": "a0b1e135-c59f-4c27-90ac-2bb6f23af178"
      },
      "execution_count": null,
      "outputs": [
        {
          "output_type": "stream",
          "name": "stdout",
          "text": [
            "782/782 [==============================] - 11s 14ms/step - loss: 0.3410 - accuracy: 0.8573\n",
            "Test loss:  0.3410199284553528\n",
            "Test accuracy:  0.8572800159454346\n"
          ]
        }
      ]
    },
    {
      "cell_type": "code",
      "source": [
        "# Make prediction on a new data sample\n",
        "sample_reviews = [('It is a cool movie. The graphics and the animation are awesome.'),\n",
        "                  ('The movie was really bad. I would not recommend it to anyone.')]\n",
        "predictions = gru_model.predict(np.array(sample_reviews))\n",
        "print(predictions[0])\n",
        "print(predictions[1])"
      ],
      "metadata": {
        "colab": {
          "base_uri": "https://localhost:8080/"
        },
        "id": "zCwTGxVdkQ9Q",
        "outputId": "d5aa87cb-55d5-4baf-fe5d-61d5a1d94168"
      },
      "execution_count": null,
      "outputs": [
        {
          "output_type": "stream",
          "name": "stdout",
          "text": [
            "1/1 [==============================] - 1s 1s/step\n",
            "[0.68902296]\n",
            "[0.31681335]\n"
          ]
        }
      ]
    },
    {
      "cell_type": "markdown",
      "source": [
        "##3. RNN model with Bi-LSTM"
      ],
      "metadata": {
        "id": "OQK4swTslQ2Q"
      }
    },
    {
      "cell_type": "markdown",
      "source": [
        "### Build the model"
      ],
      "metadata": {
        "id": "Xzt-Erfvld1B"
      }
    },
    {
      "cell_type": "code",
      "source": [
        "# Initialize RNN model with Bidirectional LSTM layer\n",
        "bi_model = tf.keras.models.Sequential([\n",
        "    text_encoder,\n",
        "    Embedding(\n",
        "        input_dim = len(text_encoder.get_vocabulary()) + 1,\n",
        "        output_dim = 64,\n",
        "        mask_zero = True),\n",
        "    Bidirectional(layer = LSTM(units = 64)),\n",
        "    Dense(64, activation = 'relu'),\n",
        "    Dense(1, activation = 'sigmoid')\n",
        "    ])\n",
        "\n",
        "# Summarize model\n",
        "bi_model.summary()\n",
        "\n",
        "# Check layer masking\n",
        "print([layer.supports_masking for layer in bi_model.layers])"
      ],
      "metadata": {
        "colab": {
          "base_uri": "https://localhost:8080/"
        },
        "id": "OZEDCLd2lYgx",
        "outputId": "a3d42d8e-3b49-45a1-c9c5-3ecd04283a4e"
      },
      "execution_count": 22,
      "outputs": [
        {
          "output_type": "stream",
          "name": "stdout",
          "text": [
            "Model: \"sequential_2\"\n",
            "_________________________________________________________________\n",
            " Layer (type)                Output Shape              Param #   \n",
            "=================================================================\n",
            " text_vectorization (TextVec  (None, None)             0         \n",
            " torization)                                                     \n",
            "                                                                 \n",
            " embedding_1 (Embedding)     (None, None, 64)          64064     \n",
            "                                                                 \n",
            " bidirectional (Bidirectiona  (None, 128)              66048     \n",
            " l)                                                              \n",
            "                                                                 \n",
            " dense_2 (Dense)             (None, 64)                8256      \n",
            "                                                                 \n",
            " dense_3 (Dense)             (None, 1)                 65        \n",
            "                                                                 \n",
            "=================================================================\n",
            "Total params: 138,433\n",
            "Trainable params: 138,433\n",
            "Non-trainable params: 0\n",
            "_________________________________________________________________\n",
            "[False, True, True, True, True]\n"
          ]
        }
      ]
    },
    {
      "cell_type": "markdown",
      "source": [
        "### Train the model"
      ],
      "metadata": {
        "id": "r1JaG735nEqo"
      }
    },
    {
      "cell_type": "code",
      "source": [
        "# Compile the model\n",
        "bi_model.compile(loss = 'binary_crossentropy',\n",
        "                 optimizer = tf.keras.optimizers.Adam(1e-3),\n",
        "                 metrics = ['accuracy'])\n",
        "# Train the model\n",
        "bi_history = bi_model.fit(X_train, y_train, epochs = 10, batch_size = 1024, validation_data = (X_val, y_val))"
      ],
      "metadata": {
        "colab": {
          "base_uri": "https://localhost:8080/"
        },
        "id": "ok3xrWkrnHTs",
        "outputId": "fe916137-58fb-47c7-83ac-12ce8b16f833"
      },
      "execution_count": 23,
      "outputs": [
        {
          "output_type": "stream",
          "name": "stdout",
          "text": [
            "Epoch 1/10\n",
            "20/20 [==============================] - 17s 397ms/step - loss: 0.6883 - accuracy: 0.5639 - val_loss: 0.6642 - val_accuracy: 0.6662\n",
            "Epoch 2/10\n",
            "20/20 [==============================] - 5s 259ms/step - loss: 0.5960 - accuracy: 0.7026 - val_loss: 0.5180 - val_accuracy: 0.7776\n",
            "Epoch 3/10\n",
            "20/20 [==============================] - 5s 254ms/step - loss: 0.4420 - accuracy: 0.8106 - val_loss: 0.3847 - val_accuracy: 0.8374\n",
            "Epoch 4/10\n",
            "20/20 [==============================] - 8s 429ms/step - loss: 0.3464 - accuracy: 0.8535 - val_loss: 0.3446 - val_accuracy: 0.8534\n",
            "Epoch 5/10\n",
            "20/20 [==============================] - 7s 365ms/step - loss: 0.3142 - accuracy: 0.8701 - val_loss: 0.3468 - val_accuracy: 0.8544\n",
            "Epoch 6/10\n",
            "20/20 [==============================] - 6s 306ms/step - loss: 0.3049 - accuracy: 0.8751 - val_loss: 0.3314 - val_accuracy: 0.8648\n",
            "Epoch 7/10\n",
            "20/20 [==============================] - 7s 359ms/step - loss: 0.3043 - accuracy: 0.8755 - val_loss: 0.3305 - val_accuracy: 0.8636\n",
            "Epoch 8/10\n",
            "20/20 [==============================] - 6s 305ms/step - loss: 0.2906 - accuracy: 0.8828 - val_loss: 0.3263 - val_accuracy: 0.8642\n",
            "Epoch 9/10\n",
            "20/20 [==============================] - 7s 349ms/step - loss: 0.2851 - accuracy: 0.8843 - val_loss: 0.3451 - val_accuracy: 0.8554\n",
            "Epoch 10/10\n",
            "20/20 [==============================] - 6s 319ms/step - loss: 0.2822 - accuracy: 0.8871 - val_loss: 0.3453 - val_accuracy: 0.8588\n"
          ]
        }
      ]
    },
    {
      "cell_type": "markdown",
      "source": [
        "### Evaluate the model using Bi-directional"
      ],
      "metadata": {
        "id": "h0RKvjRJqsI-"
      }
    },
    {
      "cell_type": "code",
      "source": [
        "# Visualize the training and validation loss over epochs\n",
        "plt.plot(bi_history.history['loss'])\n",
        "plt.plot(bi_history.history['val_loss'])\n",
        "plt.legend(['loss', 'val_loss'], loc = 'upper right')\n",
        "plt.title('model loss')\n",
        "plt.ylabel('loss')\n",
        "plt.xlabel('epoch')\n",
        "plt.show()"
      ],
      "metadata": {
        "colab": {
          "base_uri": "https://localhost:8080/",
          "height": 472
        },
        "id": "X0F2AKupquNT",
        "outputId": "ac606c4a-9aa5-4408-82b8-e0a84004045d"
      },
      "execution_count": 24,
      "outputs": [
        {
          "output_type": "display_data",
          "data": {
            "text/plain": [
              "<Figure size 640x480 with 1 Axes>"
            ],
            "image/png": "[encoded data removed]"
          },
          "metadata": {}
        }
      ]
    },
    {
      "cell_type": "code",
      "source": [
        "# Visualize the training and validation accuracy over epochs\n",
        "plt.plot(bi_history.history['accuracy'])\n",
        "plt.plot(bi_history.history['val_accuracy'])\n",
        "plt.legend(['accuracy', 'val_accuracy'], loc = 'upper left')\n",
        "plt.title('model accuracy')\n",
        "plt.ylabel('accuracy')\n",
        "plt.xlabel('epoch')\n",
        "plt.show()"
      ],
      "metadata": {
        "colab": {
          "base_uri": "https://localhost:8080/",
          "height": 472
        },
        "id": "O9wgOO0NwaP5",
        "outputId": "fbe559b7-3392-43cd-eee4-512372db2395"
      },
      "execution_count": 26,
      "outputs": [
        {
          "output_type": "display_data",
          "data": {
            "text/plain": [
              "<Figure size 640x480 with 1 Axes>"
            ],
            "image/png": "[encoded data removed]"
          },
          "metadata": {}
        }
      ]
    },
    {
      "cell_type": "code",
      "source": [
        "# Evaluate the model on the test set\n",
        "test_loss, test_accuracy = bi_model.evaluate(X_test, y_test)\n",
        "print(\"Test loss: \", test_loss)\n",
        "print(\"Test accuracy: \", test_accuracy)"
      ],
      "metadata": {
        "colab": {
          "base_uri": "https://localhost:8080/"
        },
        "id": "JhScO-Wgxkqz",
        "outputId": "7ccf575e-f6d1-4859-e295-167b26e04622"
      },
      "execution_count": 25,
      "outputs": [
        {
          "output_type": "stream",
          "name": "stdout",
          "text": [
            "782/782 [==============================] - 17s 22ms/step - loss: 0.3420 - accuracy: 0.8593\n",
            "Test loss:  0.3420022130012512\n",
            "Test accuracy:  0.859279990196228\n"
          ]
        }
      ]
    },
    {
      "cell_type": "code",
      "source": [
        "# Make prediction on a new data sample\n",
        "sample_reviews = [('It is a cool movie. The graphics and the animation are awesome.'),\n",
        "                  ('The movie was really bad. I would not recommend it to anyone.')]\n",
        "bi_predictions = bi_model.predict(np.array(sample_reviews))\n",
        "print(bi_predictions[0])\n",
        "print(bi_predictions[1])"
      ],
      "metadata": {
        "id": "tVLM1Q1iyJTF"
      },
      "execution_count": null,
      "outputs": []
    },
    {
      "cell_type": "markdown",
      "source": [
        "## 4. RNN Model using 1D Conv"
      ],
      "metadata": {
        "id": "9c6tmszNymsk"
      }
    },
    {
      "cell_type": "markdown",
      "source": [
        "### Build the model"
      ],
      "metadata": {
        "id": "ATsKQFYuyvGU"
      }
    },
    {
      "cell_type": "code",
      "source": [
        "# Initialize sequential model with Conv1D layer\n",
        "conv_model = tf.keras.models.Sequential([\n",
        "    text_encoder,\n",
        "    Embedding(\n",
        "        input_dim = len(text_encoder.get_vocabulary()) + 1,\n",
        "        output_dim = 64,\n",
        "        mask_zero = True),\n",
        "    Conv1D(filters = 16, kernel_size = 3, activation = 'relu'),\n",
        "    MaxPooling1D(pool_size = 3),\n",
        "    tf.keras.layers.GlobalMaxPooling1D(),\n",
        "    # Flatten,\n",
        "    Dense(64, activation = 'relu'),\n",
        "    Dense(1, activation = 'sigmoid')\n",
        "])"
      ],
      "metadata": {
        "id": "TNI93-gxyuav"
      },
      "execution_count": null,
      "outputs": []
    },
    {
      "cell_type": "code",
      "source": [
        "# Summarize model\n",
        "conv_model.summary()"
      ],
      "metadata": {
        "colab": {
          "base_uri": "https://localhost:8080/"
        },
        "id": "dPymPUZ1zVhi",
        "outputId": "4a378a3c-76ef-44f7-fcf9-492427d7b151"
      },
      "execution_count": null,
      "outputs": [
        {
          "output_type": "stream",
          "name": "stdout",
          "text": [
            "Model: \"sequential_4\"\n",
            "_________________________________________________________________\n",
            " Layer (type)                Output Shape              Param #   \n",
            "=================================================================\n",
            " text_vectorization (TextVec  (None, None)             0         \n",
            " torization)                                                     \n",
            "                                                                 \n",
            " embedding_2 (Embedding)     (None, None, 64)          64064     \n",
            "                                                                 \n",
            " conv1d_6 (Conv1D)           (None, None, 16)          3088      \n",
            "                                                                 \n",
            " max_pooling1d_4 (MaxPooling  (None, None, 16)         0         \n",
            " 1D)                                                             \n",
            "                                                                 \n",
            " global_max_pooling1d_2 (Glo  (None, 16)               0         \n",
            " balMaxPooling1D)                                                \n",
            "                                                                 \n",
            " dense_17 (Dense)            (None, 64)                1088      \n",
            "                                                                 \n",
            " dense_18 (Dense)            (None, 1)                 65        \n",
            "                                                                 \n",
            "=================================================================\n",
            "Total params: 68,305\n",
            "Trainable params: 68,305\n",
            "Non-trainable params: 0\n",
            "_________________________________________________________________\n"
          ]
        }
      ]
    },
    {
      "cell_type": "markdown",
      "source": [
        "### Train the model"
      ],
      "metadata": {
        "id": "8ryos8odzfKX"
      }
    },
    {
      "cell_type": "code",
      "source": [
        "conv_model.compile(loss = 'binary_crossentropy',\n",
        "              optimizer = tf.keras.optimizers.Adam(1e-3), \n",
        "              metrics = ['accuracy'])\n",
        "\n",
        "conv_history = conv_model.fit(X_train, y_train, epochs = 10, batch_size = 512, validation_data = (X_val, y_val))"
      ],
      "metadata": {
        "colab": {
          "base_uri": "https://localhost:8080/"
        },
        "id": "RwwCasfPzhUN",
        "outputId": "f97cca38-84a0-4f6d-cc76-4022995af9f4"
      },
      "execution_count": null,
      "outputs": [
        {
          "output_type": "stream",
          "name": "stdout",
          "text": [
            "Epoch 1/10\n",
            "40/40 [==============================] - 14s 306ms/step - loss: 0.6832 - accuracy: 0.6216 - val_loss: 0.6540 - val_accuracy: 0.7406\n",
            "Epoch 2/10\n",
            "40/40 [==============================] - 5s 136ms/step - loss: 0.5716 - accuracy: 0.7786 - val_loss: 0.4716 - val_accuracy: 0.7864\n",
            "Epoch 3/10\n",
            "40/40 [==============================] - 4s 107ms/step - loss: 0.4115 - accuracy: 0.8197 - val_loss: 0.3868 - val_accuracy: 0.8252\n",
            "Epoch 4/10\n",
            "40/40 [==============================] - 3s 84ms/step - loss: 0.3465 - accuracy: 0.8512 - val_loss: 0.3562 - val_accuracy: 0.8454\n",
            "Epoch 5/10\n",
            "40/40 [==============================] - 4s 92ms/step - loss: 0.3049 - accuracy: 0.8741 - val_loss: 0.3434 - val_accuracy: 0.8522\n",
            "Epoch 6/10\n",
            "40/40 [==============================] - 2s 60ms/step - loss: 0.2728 - accuracy: 0.8899 - val_loss: 0.3399 - val_accuracy: 0.8570\n",
            "Epoch 7/10\n",
            "40/40 [==============================] - 3s 68ms/step - loss: 0.2452 - accuracy: 0.9042 - val_loss: 0.3423 - val_accuracy: 0.8554\n",
            "Epoch 8/10\n",
            "40/40 [==============================] - 3s 63ms/step - loss: 0.2230 - accuracy: 0.9133 - val_loss: 0.3484 - val_accuracy: 0.8586\n",
            "Epoch 9/10\n",
            "40/40 [==============================] - 2s 58ms/step - loss: 0.2028 - accuracy: 0.9226 - val_loss: 0.3555 - val_accuracy: 0.8546\n",
            "Epoch 10/10\n",
            "40/40 [==============================] - 3s 81ms/step - loss: 0.1834 - accuracy: 0.9330 - val_loss: 0.3669 - val_accuracy: 0.8496\n"
          ]
        }
      ]
    },
    {
      "cell_type": "markdown",
      "source": [
        "### Evaluate the model"
      ],
      "metadata": {
        "id": "b1GsIqtY8mx1"
      }
    },
    {
      "cell_type": "code",
      "source": [
        "# Visualize the training and validation loss over epochs\n",
        "plt.plot(conv_history.history['loss'])\n",
        "plt.plot(conv_history.history['val_loss'])\n",
        "plt.title('model loss')\n",
        "plt.ylabel('loss')\n",
        "plt.xlabel('epoch')\n",
        "plt.legend(['train', 'val'], loc='upper right')\n",
        "plt.show()"
      ],
      "metadata": {
        "colab": {
          "base_uri": "https://localhost:8080/",
          "height": 472
        },
        "id": "ctCUEwI08p9j",
        "outputId": "7e4ec33d-08b9-401e-d1a3-c5b6ad0ff9f4"
      },
      "execution_count": null,
      "outputs": [
        {
          "output_type": "display_data",
          "data": {
            "text/plain": [
              "<Figure size 640x480 with 1 Axes>"
            ],
            "image/png": "[encoded data removed]"
          },
          "metadata": {}
        }
      ]
    },
    {
      "cell_type": "code",
      "source": [
        "# Visualize the training and validation accuracy over epochs\n",
        "plt.plot(conv_history.history['accuracy'])\n",
        "plt.plot(conv_history.history['val_accuracy'])\n",
        "plt.title('model accuracy')\n",
        "plt.ylabel('accuracy')\n",
        "plt.xlabel('epoch')\n",
        "plt.legend(['train', 'val'], loc='upper left')\n",
        "plt.show()"
      ],
      "metadata": {
        "colab": {
          "base_uri": "https://localhost:8080/",
          "height": 472
        },
        "id": "Hb2baJpc83Wd",
        "outputId": "5f33f2ad-e21b-4504-9e52-07820d54c02b"
      },
      "execution_count": null,
      "outputs": [
        {
          "output_type": "display_data",
          "data": {
            "text/plain": [
              "<Figure size 640x480 with 1 Axes>"
            ],
            "image/png": "[encoded data removed]"
          },
          "metadata": {}
        }
      ]
    },
    {
      "cell_type": "code",
      "source": [
        "# Evaluate the model on the test set\n",
        "conv_test_loss, conv_test_acc = conv_model.evaluate(X_test, y_test)\n",
        "print('Test Loss:', conv_test_loss)\n",
        "print('Test Accuracy:', conv_test_acc)"
      ],
      "metadata": {
        "colab": {
          "base_uri": "https://localhost:8080/"
        },
        "id": "Ljj8t6XA-HHN",
        "outputId": "96422cf9-fe59-42ff-ffca-0a380f8a716e"
      },
      "execution_count": null,
      "outputs": [
        {
          "output_type": "stream",
          "name": "stdout",
          "text": [
            "782/782 [==============================] - 13s 16ms/step - loss: 0.3635 - accuracy: 0.8480\n",
            "Test Loss: 0.3635491728782654\n",
            "Test Accuracy: 0.8479999899864197\n"
          ]
        }
      ]
    },
    {
      "cell_type": "markdown",
      "source": [
        "## 5. GloVe"
      ],
      "metadata": {
        "id": "OXaCXFqZ-ORD"
      }
    },
    {
      "cell_type": "markdown",
      "source": [
        "### Convert vocabulary indices with pre-trained GloVe vector"
      ],
      "metadata": {
        "id": "mjffmzBoA2l_"
      }
    },
    {
      "cell_type": "code",
      "source": [
        "!wget http://nlp.stanford.edu/data/glove.6B.zip  \n",
        "!unzip glove.6B.zip "
      ],
      "metadata": {
        "colab": {
          "base_uri": "https://localhost:8080/"
        },
        "id": "PGoAKhGSA55o",
        "outputId": "d67fc654-5650-4b12-e049-cd9937a1402f"
      },
      "execution_count": null,
      "outputs": [
        {
          "output_type": "stream",
          "name": "stdout",
          "text": [
            "--2023-05-10 11:00:51--  http://nlp.stanford.edu/data/glove.6B.zip\n",
            "Resolving nlp.stanford.edu (nlp.stanford.edu)... 171.64.67.140\n",
            "Connecting to nlp.stanford.edu (nlp.stanford.edu)|171.64.67.140|:80... connected.\n",
            "HTTP request sent, awaiting response... 302 Found\n",
            "Location: https://nlp.stanford.edu/data/glove.6B.zip [following]\n",
            "--2023-05-10 11:00:52--  https://nlp.stanford.edu/data/glove.6B.zip\n",
            "Connecting to nlp.stanford.edu (nlp.stanford.edu)|171.64.67.140|:443... connected.\n",
            "HTTP request sent, awaiting response... 301 Moved Permanently\n",
            "Location: https://downloads.cs.stanford.edu/nlp/data/glove.6B.zip [following]\n",
            "--2023-05-10 11:00:52--  https://downloads.cs.stanford.edu/nlp/data/glove.6B.zip\n",
            "Resolving downloads.cs.stanford.edu (downloads.cs.stanford.edu)... 171.64.64.22\n",
            "Connecting to downloads.cs.stanford.edu (downloads.cs.stanford.edu)|171.64.64.22|:443... connected.\n",
            "HTTP request sent, awaiting response... 200 OK\n",
            "Length: 862182613 (822M) [application/zip]\n",
            "Saving to: ‘glove.6B.zip’\n",
            "\n",
            "glove.6B.zip        100%[===================>] 822.24M  4.99MB/s    in 2m 45s  \n",
            "\n",
            "2023-05-10 11:03:38 (4.99 MB/s) - ‘glove.6B.zip’ saved [862182613/862182613]\n",
            "\n",
            "Archive:  glove.6B.zip\n",
            "  inflating: glove.6B.50d.txt        \n",
            "  inflating: glove.6B.100d.txt       \n",
            "  inflating: glove.6B.200d.txt       \n",
            "  inflating: glove.6B.300d.txt       \n"
          ]
        }
      ]
    },
    {
      "cell_type": "code",
      "source": [
        "# Creating a dictionary mapping words in vocabulary with their indices\n",
        "word_index = dict(zip(vocab, range(len(vocab))))\n",
        "word_index[\"the\"]"
      ],
      "metadata": {
        "colab": {
          "base_uri": "https://localhost:8080/"
        },
        "id": "RYh4ZoGIHmFL",
        "outputId": "fe2a3c75-123a-48c4-de07-73906c3e41ae"
      },
      "execution_count": null,
      "outputs": [
        {
          "output_type": "execute_result",
          "data": {
            "text/plain": [
              "2"
            ]
          },
          "metadata": {},
          "execution_count": 12
        }
      ]
    },
    {
      "cell_type": "code",
      "source": [
        "# Choosing 100-dimensional text-encoded vectors\n",
        "glove_path = \"glove.6B.100d.txt\"\n",
        "\n",
        "# Creating a dictionary mapping words to their NumPy vector from pre-trained GloVe word vectors\n",
        "embedding_index = {}\n",
        "with open(glove_path) as f:\n",
        "  for line in f:\n",
        "    word, vector = line.split(maxsplit = 1)\n",
        "    vector = np.fromstring(vector, \"f\", sep = \" \") # Convert string to 1D array\n",
        "    embedding_index[word] = vector\n",
        "\n",
        "embedding_index[\"the\"]"
      ],
      "metadata": {
        "colab": {
          "base_uri": "https://localhost:8080/"
        },
        "id": "b3ewzfd-IBNb",
        "outputId": "391ea23b-4a9d-41a5-fc8c-8692a16e9193"
      },
      "execution_count": null,
      "outputs": [
        {
          "output_type": "execute_result",
          "data": {
            "text/plain": [
              "array([-0.038194, -0.24487 ,  0.72812 , -0.39961 ,  0.083172,  0.043953,\n",
              "       -0.39141 ,  0.3344  , -0.57545 ,  0.087459,  0.28787 , -0.06731 ,\n",
              "        0.30906 , -0.26384 , -0.13231 , -0.20757 ,  0.33395 , -0.33848 ,\n",
              "       -0.31743 , -0.48336 ,  0.1464  , -0.37304 ,  0.34577 ,  0.052041,\n",
              "        0.44946 , -0.46971 ,  0.02628 , -0.54155 , -0.15518 , -0.14107 ,\n",
              "       -0.039722,  0.28277 ,  0.14393 ,  0.23464 , -0.31021 ,  0.086173,\n",
              "        0.20397 ,  0.52624 ,  0.17164 , -0.082378, -0.71787 , -0.41531 ,\n",
              "        0.20335 , -0.12763 ,  0.41367 ,  0.55187 ,  0.57908 , -0.33477 ,\n",
              "       -0.36559 , -0.54857 , -0.062892,  0.26584 ,  0.30205 ,  0.99775 ,\n",
              "       -0.80481 , -3.0243  ,  0.01254 , -0.36942 ,  2.2167  ,  0.72201 ,\n",
              "       -0.24978 ,  0.92136 ,  0.034514,  0.46745 ,  1.1079  , -0.19358 ,\n",
              "       -0.074575,  0.23353 , -0.052062, -0.22044 ,  0.057162, -0.15806 ,\n",
              "       -0.30798 , -0.41625 ,  0.37972 ,  0.15006 , -0.53212 , -0.2055  ,\n",
              "       -1.2526  ,  0.071624,  0.70565 ,  0.49744 , -0.42063 ,  0.26148 ,\n",
              "       -1.538   , -0.30223 , -0.073438, -0.28312 ,  0.37104 , -0.25217 ,\n",
              "        0.016215, -0.017099, -0.38984 ,  0.87424 , -0.72569 , -0.51058 ,\n",
              "       -0.52028 , -0.1459  ,  0.8278  ,  0.27062 ], dtype=float32)"
            ]
          },
          "metadata": {},
          "execution_count": 13
        }
      ]
    },
    {
      "cell_type": "code",
      "source": [
        "# Creating an embedding matrix mapping the index of word in vocabulary\n",
        "# with the pre-trained its corresponding vector\n",
        "embedding_dim = 100\n",
        "hits = 0\n",
        "misses = 0\n",
        "num_tokens = VOCAB_SIZE + 2\n",
        "\n",
        "embedding_matrix = np.zeros((num_tokens, embedding_dim))\n",
        "for word, i in word_index.items():\n",
        "  embedding_vector = embedding_index.get(word)\n",
        "  if embedding_vector is not None:\n",
        "    embedding_matrix[i] = embedding_vector\n",
        "    hits+=1\n",
        "  else:\n",
        "    misses +=1\n",
        "\n",
        "print(\"Converted %d words (missed %d words)\" % (hits, misses))"
      ],
      "metadata": {
        "colab": {
          "base_uri": "https://localhost:8080/"
        },
        "id": "FabQwnwuKB8K",
        "outputId": "854b4989-f5dc-4520-b170-070e2c6d999b"
      },
      "execution_count": null,
      "outputs": [
        {
          "output_type": "stream",
          "name": "stdout",
          "text": [
            "Converted 993 words (missed 7 words)\n"
          ]
        }
      ]
    },
    {
      "cell_type": "markdown",
      "source": [
        "### Build the model"
      ],
      "metadata": {
        "id": "x6ukqnA2-efc"
      }
    },
    {
      "cell_type": "code",
      "source": [
        "# Creating embedding layer\n",
        "embedding_layer = Embedding(\n",
        "    input_dim = num_tokens,\n",
        "    output_dim = embedding_dim,\n",
        "    # Generate tensor with constant values\n",
        "    embeddings_initializer = tf.keras.initializers.Constant(embedding_matrix),\n",
        "    trainable = False,\n",
        "    mask_zero = True\n",
        ")"
      ],
      "metadata": {
        "id": "jXMEpTM4MA-J"
      },
      "execution_count": null,
      "outputs": []
    },
    {
      "cell_type": "code",
      "source": [
        "glove_model.summary()"
      ],
      "metadata": {
        "colab": {
          "base_uri": "https://localhost:8080/"
        },
        "id": "SuZvfEA0NwT4",
        "outputId": "9c0d4305-23fa-44c5-a729-147797f58ce3"
      },
      "execution_count": null,
      "outputs": [
        {
          "output_type": "stream",
          "name": "stdout",
          "text": [
            "Model: \"sequential_2\"\n",
            "_________________________________________________________________\n",
            " Layer (type)                Output Shape              Param #   \n",
            "=================================================================\n",
            " embedding (Embedding)       (None, None, 100)         100200    \n",
            "                                                                 \n",
            " lstm_1 (LSTM)               (None, 100)               80400     \n",
            "                                                                 \n",
            " dense_5 (Dense)             (None, 64)                6464      \n",
            "                                                                 \n",
            " dense_6 (Dense)             (None, 1)                 65        \n",
            "                                                                 \n",
            "=================================================================\n",
            "Total params: 187,129\n",
            "Trainable params: 86,929\n",
            "Non-trainable params: 100,200\n",
            "_________________________________________________________________\n"
          ]
        }
      ]
    },
    {
      "cell_type": "code",
      "source": [
        "from tensorflow.keras import layers, models\n",
        "\n",
        "int_sequences_input = layers.Input(shape=(None,), dtype=\"int64\")\n",
        "embedded_sequences = embedding_layer(int_sequences_input)\n",
        "x = LSTM(units=100)(embedded_sequences)\n",
        "x = Dense(64, activation = 'relu')(x)\n",
        "preds = Dense(1, activation = 'sigmoid')(x)\n",
        "glove_model = models.Model(int_sequences_input, preds)\n",
        "glove_model.summary()"
      ],
      "metadata": {
        "colab": {
          "base_uri": "https://localhost:8080/"
        },
        "id": "yuVLtkviWkDi",
        "outputId": "f92b87f9-bca3-42a0-8d3f-6ad9b92d85c2"
      },
      "execution_count": null,
      "outputs": [
        {
          "output_type": "stream",
          "name": "stdout",
          "text": [
            "Model: \"model_4\"\n",
            "_________________________________________________________________\n",
            " Layer (type)                Output Shape              Param #   \n",
            "=================================================================\n",
            " input_9 (InputLayer)        [(None, None)]            0         \n",
            "                                                                 \n",
            " embedding (Embedding)       (None, None, 100)         100200    \n",
            "                                                                 \n",
            " lstm_5 (LSTM)               (None, 100)               80400     \n",
            "                                                                 \n",
            " dense_13 (Dense)            (None, 64)                6464      \n",
            "                                                                 \n",
            " dense_14 (Dense)            (None, 1)                 65        \n",
            "                                                                 \n",
            "=================================================================\n",
            "Total params: 187,129\n",
            "Trainable params: 86,929\n",
            "Non-trainable params: 100,200\n",
            "_________________________________________________________________\n"
          ]
        }
      ]
    },
    {
      "cell_type": "markdown",
      "source": [
        "### Train the model"
      ],
      "metadata": {
        "id": "L8ZA1tli-g4G"
      }
    },
    {
      "cell_type": "code",
      "source": [
        "X_train_glove = text_encoder(np.array([[s] for s in X_train])).numpy()\n",
        "X_val_glove = text_encoder(np.array([[s] for s in X_val])).numpy()\n",
        "X_test_glove = text_encoder(np.array([[s] for s in X_test])).numpy()\n",
        "\n",
        "y_train_glove = np.array(y_train)\n",
        "y_val_glove = np.array(y_val)\n",
        "y_test_glove = np.array(y_test)"
      ],
      "metadata": {
        "id": "OFO5hUZyRC4v"
      },
      "execution_count": null,
      "outputs": []
    },
    {
      "cell_type": "code",
      "source": [
        "# Compile the model\n",
        "glove_model.compile(loss='binary_crossentropy', # Binary classification loss\n",
        "              optimizer=tf.keras.optimizers.Adam(1e-3), # Optimizer\n",
        "              metrics=['accuracy']) # Evaluation metric\n",
        "\n",
        "# Train the model\n",
        "glove_history = glove_model.fit(X_train_glove, y_train_glove, epochs=20, batch_size = 1024, validation_data=(X_val_glove, y_val_glove)) # Here the test dataset is used as validtion set"
      ],
      "metadata": {
        "colab": {
          "base_uri": "https://localhost:8080/"
        },
        "id": "F89SOaZfN4xx",
        "outputId": "4bfe18ee-911e-42a3-9538-bb27e0eea3df"
      },
      "execution_count": null,
      "outputs": [
        {
          "output_type": "stream",
          "name": "stdout",
          "text": [
            "Epoch 1/20\n",
            "20/20 [==============================] - 11s 269ms/step - loss: 0.6751 - accuracy: 0.5694 - val_loss: 0.6500 - val_accuracy: 0.6206\n",
            "Epoch 2/20\n",
            "20/20 [==============================] - 4s 201ms/step - loss: 0.6081 - accuracy: 0.6700 - val_loss: 0.5913 - val_accuracy: 0.6884\n",
            "Epoch 3/20\n",
            "20/20 [==============================] - 4s 214ms/step - loss: 0.5572 - accuracy: 0.7228 - val_loss: 0.5140 - val_accuracy: 0.7530\n",
            "Epoch 4/20\n",
            "20/20 [==============================] - 4s 185ms/step - loss: 0.5283 - accuracy: 0.7423 - val_loss: 0.5025 - val_accuracy: 0.7580\n",
            "Epoch 5/20\n",
            "20/20 [==============================] - 4s 184ms/step - loss: 0.5154 - accuracy: 0.7530 - val_loss: 0.4930 - val_accuracy: 0.7622\n",
            "Epoch 6/20\n",
            "20/20 [==============================] - 4s 211ms/step - loss: 0.5073 - accuracy: 0.7536 - val_loss: 0.5567 - val_accuracy: 0.7252\n",
            "Epoch 7/20\n",
            "20/20 [==============================] - 4s 199ms/step - loss: 0.5008 - accuracy: 0.7614 - val_loss: 0.5302 - val_accuracy: 0.7310\n",
            "Epoch 8/20\n",
            "20/20 [==============================] - 4s 199ms/step - loss: 0.4714 - accuracy: 0.7817 - val_loss: 0.4892 - val_accuracy: 0.7602\n",
            "Epoch 9/20\n",
            "20/20 [==============================] - 4s 208ms/step - loss: 0.4575 - accuracy: 0.7882 - val_loss: 0.4410 - val_accuracy: 0.7992\n",
            "Epoch 10/20\n",
            "20/20 [==============================] - 4s 198ms/step - loss: 0.4663 - accuracy: 0.7784 - val_loss: 0.4520 - val_accuracy: 0.7898\n",
            "Epoch 11/20\n",
            "20/20 [==============================] - 4s 181ms/step - loss: 0.4364 - accuracy: 0.8001 - val_loss: 0.4298 - val_accuracy: 0.8036\n",
            "Epoch 12/20\n",
            "20/20 [==============================] - 4s 203ms/step - loss: 0.4224 - accuracy: 0.8097 - val_loss: 0.4524 - val_accuracy: 0.7884\n",
            "Epoch 13/20\n",
            "20/20 [==============================] - 4s 184ms/step - loss: 0.4164 - accuracy: 0.8148 - val_loss: 0.4188 - val_accuracy: 0.8098\n",
            "Epoch 14/20\n",
            "20/20 [==============================] - 4s 181ms/step - loss: 0.4244 - accuracy: 0.8086 - val_loss: 0.4417 - val_accuracy: 0.7984\n",
            "Epoch 15/20\n",
            "20/20 [==============================] - 4s 198ms/step - loss: 0.4125 - accuracy: 0.8145 - val_loss: 0.4025 - val_accuracy: 0.8190\n",
            "Epoch 16/20\n",
            "20/20 [==============================] - 4s 190ms/step - loss: 0.4164 - accuracy: 0.8146 - val_loss: 0.4376 - val_accuracy: 0.8034\n",
            "Epoch 17/20\n",
            "20/20 [==============================] - 4s 180ms/step - loss: 0.4076 - accuracy: 0.8181 - val_loss: 0.4157 - val_accuracy: 0.8108\n",
            "Epoch 18/20\n",
            "20/20 [==============================] - 4s 181ms/step - loss: 0.3917 - accuracy: 0.8270 - val_loss: 0.3908 - val_accuracy: 0.8284\n",
            "Epoch 19/20\n",
            "20/20 [==============================] - 4s 197ms/step - loss: 0.3887 - accuracy: 0.8281 - val_loss: 0.3982 - val_accuracy: 0.8190\n",
            "Epoch 20/20\n",
            "20/20 [==============================] - 4s 197ms/step - loss: 0.4376 - accuracy: 0.7988 - val_loss: 0.4340 - val_accuracy: 0.8216\n"
          ]
        }
      ]
    },
    {
      "cell_type": "markdown",
      "source": [
        "### Evaluate the model"
      ],
      "metadata": {
        "id": "m41Rame4-jGh"
      }
    },
    {
      "cell_type": "code",
      "source": [
        "# Visualize the training and validation loss over epochs\n",
        "plt.plot(glove_history.history['loss'])\n",
        "plt.plot(glove_history.history['val_loss'])\n",
        "plt.title('model loss')\n",
        "plt.ylabel('loss')\n",
        "plt.xlabel('epoch')\n",
        "plt.legend(['train', 'val'], loc='upper right')\n",
        "plt.show()"
      ],
      "metadata": {
        "colab": {
          "base_uri": "https://localhost:8080/"
        },
        "id": "01J31yufawV2",
        "outputId": "f96ec926-3abf-4543-bd5a-7cee63f49cbc"
      },
      "execution_count": null,
      "outputs": [
        {
          "output_type": "display_data",
          "data": {
            "text/plain": [
              "<Figure size 640x480 with 1 Axes>"
            ],
            "image/png": "[encoded data removed]"
          },
          "metadata": {}
        }
      ]
    },
    {
      "cell_type": "code",
      "source": [
        "# Visualize the training and validation accuracy over epochs\n",
        "plt.plot(glove_history.history['accuracy'])\n",
        "plt.plot(glove_history.history['val_accuracy'])\n",
        "plt.title('model accuracy')\n",
        "plt.ylabel('accuracy')\n",
        "plt.xlabel('epoch')\n",
        "plt.legend(['train', 'val'], loc='upper left')\n",
        "plt.show()"
      ],
      "metadata": {
        "colab": {
          "base_uri": "https://localhost:8080/"
        },
        "id": "9ue0l-tia5NT",
        "outputId": "d23ebebe-d03b-4920-9989-842fc3e20a93"
      },
      "execution_count": null,
      "outputs": [
        {
          "output_type": "display_data",
          "data": {
            "text/plain": [
              "<Figure size 640x480 with 1 Axes>"
            ],
            "image/png": "[encoded data removed]"
          },
          "metadata": {}
        }
      ]
    },
    {
      "cell_type": "code",
      "source": [
        "# Evaluate the model on the test set\n",
        "\n",
        "glove_test_loss, glove_test_acc = glove_model.evaluate(X_test_glove, y_test_glove)\n",
        "print('Test Loss:', glove_test_loss)\n",
        "print('Test Accuracy:', glove_test_acc)"
      ],
      "metadata": {
        "colab": {
          "base_uri": "https://localhost:8080/"
        },
        "id": "RWNg3FRJa-w4",
        "outputId": "2b2324f9-48f8-45dd-a5d8-287f1373ac60"
      },
      "execution_count": null,
      "outputs": [
        {
          "output_type": "stream",
          "name": "stdout",
          "text": [
            "782/782 [==============================] - 12s 14ms/step - loss: 0.4380 - accuracy: 0.8168\n",
            "Test Loss: 0.4379879832267761\n",
            "Test Accuracy: 0.8167999982833862\n"
          ]
        }
      ]
    },
    {
      "cell_type": "markdown",
      "source": [
        "## Comparison"
      ],
      "metadata": {
        "id": "ZSL7Yw4nLVAP"
      }
    },
    {
      "cell_type": "markdown",
      "source": [
        "Accuracy:\n",
        "- Model with LSTM layer and Bidirectional LSTM have quite similar accuracy score (0.859), which is also the highest\n",
        "- Model with GRU layer is quite lower but still > 85%, followed by Conv1D with > 84% accuracy score\n",
        "- Surprisingly, RNN model using pre-trained GloVe vector representing for each word performed worst, with only 81% accuracy\n",
        "\n",
        "Fluctuation:\n",
        "- RNN model with GloVe is very fluctating during training process"
      ],
      "metadata": {
        "id": "TzugA-VWOY8K"
      }
    }
  ],
  "metadata": {
    "accelerator": "GPU",
    "colab": {
      "provenance": [],
      "collapsed_sections": [
        "MlHfUM4Mtsma",
        "MsQCn9Msteed",
        "i37QWeGetnJJ",
        "EAI8guCg8dnw",
        "6JYpVl6Q8juo",
        "tIXTWlzakpVN",
        "OC1-u37-dJcU",
        "ZN0s7Q8ehL4e",
        "O200Tu6djMQ9",
        "OQK4swTslQ2Q",
        "Xzt-Erfvld1B",
        "r1JaG735nEqo",
        "h0RKvjRJqsI-",
        "9c6tmszNymsk",
        "ATsKQFYuyvGU",
        "8ryos8odzfKX",
        "b1GsIqtY8mx1",
        "OXaCXFqZ-ORD",
        "mjffmzBoA2l_",
        "x6ukqnA2-efc",
        "L8ZA1tli-g4G",
        "m41Rame4-jGh"
      ]
    },
    "kernelspec": {
      "display_name": "Python 3 (ipykernel)",
      "language": "python",
      "name": "python3"
    },
    "language_info": {
      "codemirror_mode": {
        "name": "ipython",
        "version": 3
      },
      "file_extension": ".py",
      "mimetype": "text/x-python",
      "name": "python",
      "nbconvert_exporter": "python",
      "pygments_lexer": "ipython3",
      "version": "3.9.12"
    },
    "widgets": {
      "application/vnd.jupyter.widget-state+json": {
        "0ce26ab8f24e4b088ddfbe3fa13423ed": {
          "model_module": "@jupyter-widgets/controls",
          "model_name": "HBoxModel",
          "model_module_version": "1.5.0",
          "state": {
            "_dom_classes": [],
            "_model_module": "@jupyter-widgets/controls",
            "_model_module_version": "1.5.0",
            "_model_name": "HBoxModel",
            "_view_count": null,
            "_view_module": "@jupyter-widgets/controls",
            "_view_module_version": "1.5.0",
            "_view_name": "HBoxView",
            "box_style": "",
            "children": [
              "IPY_MODEL_b5b372f835064139b3b00fcb9f01cb9c",
              "IPY_MODEL_cf8cb86252234b3c81c1e8ddc6da20af",
              "IPY_MODEL_198482e0010e4ae6bb221a0a8b1e7c07"
            ],
            "layout": "IPY_MODEL_f0ad7c43b2c14631a9d6f3a9918e9fe9"
          }
        },
        "b5b372f835064139b3b00fcb9f01cb9c": {
          "model_module": "@jupyter-widgets/controls",
          "model_name": "HTMLModel",
          "model_module_version": "1.5.0",
          "state": {
            "_dom_classes": [],
            "_model_module": "@jupyter-widgets/controls",
            "_model_module_version": "1.5.0",
            "_model_name": "HTMLModel",
            "_view_count": null,
            "_view_module": "@jupyter-widgets/controls",
            "_view_module_version": "1.5.0",
            "_view_name": "HTMLView",
            "description": "",
            "description_tooltip": null,
            "layout": "IPY_MODEL_5c617bddec014c29b1bc9615f2217e6b",
            "placeholder": "​",
            "style": "IPY_MODEL_f9f9afb997104191834e59ed3cfb500d",
            "value": "Dl Completed...: 100%"
          }
        },
        "cf8cb86252234b3c81c1e8ddc6da20af": {
          "model_module": "@jupyter-widgets/controls",
          "model_name": "FloatProgressModel",
          "model_module_version": "1.5.0",
          "state": {
            "_dom_classes": [],
            "_model_module": "@jupyter-widgets/controls",
            "_model_module_version": "1.5.0",
            "_model_name": "FloatProgressModel",
            "_view_count": null,
            "_view_module": "@jupyter-widgets/controls",
            "_view_module_version": "1.5.0",
            "_view_name": "ProgressView",
            "bar_style": "success",
            "description": "",
            "description_tooltip": null,
            "layout": "IPY_MODEL_c459c4aeac084c1abd5f28e1b75943d1",
            "max": 1,
            "min": 0,
            "orientation": "horizontal",
            "style": "IPY_MODEL_e7669af410e946b08617ed8a9074d971",
            "value": 1
          }
        },
        "198482e0010e4ae6bb221a0a8b1e7c07": {
          "model_module": "@jupyter-widgets/controls",
          "model_name": "HTMLModel",
          "model_module_version": "1.5.0",
          "state": {
            "_dom_classes": [],
            "_model_module": "@jupyter-widgets/controls",
            "_model_module_version": "1.5.0",
            "_model_name": "HTMLModel",
            "_view_count": null,
            "_view_module": "@jupyter-widgets/controls",
            "_view_module_version": "1.5.0",
            "_view_name": "HTMLView",
            "description": "",
            "description_tooltip": null,
            "layout": "IPY_MODEL_2fb254c749ee4ee9a235a481c6178c18",
            "placeholder": "​",
            "style": "IPY_MODEL_c72348337c984a4f8693d07fa0da387d",
            "value": " 1/1 [00:03&lt;00:00,  3.92s/ url]"
          }
        },
        "f0ad7c43b2c14631a9d6f3a9918e9fe9": {
          "model_module": "@jupyter-widgets/base",
          "model_name": "LayoutModel",
          "model_module_version": "1.2.0",
          "state": {
            "_model_module": "@jupyter-widgets/base",
            "_model_module_version": "1.2.0",
            "_model_name": "LayoutModel",
            "_view_count": null,
            "_view_module": "@jupyter-widgets/base",
            "_view_module_version": "1.2.0",
            "_view_name": "LayoutView",
            "align_content": null,
            "align_items": null,
            "align_self": null,
            "border": null,
            "bottom": null,
            "display": null,
            "flex": null,
            "flex_flow": null,
            "grid_area": null,
            "grid_auto_columns": null,
            "grid_auto_flow": null,
            "grid_auto_rows": null,
            "grid_column": null,
            "grid_gap": null,
            "grid_row": null,
            "grid_template_areas": null,
            "grid_template_columns": null,
            "grid_template_rows": null,
            "height": null,
            "justify_content": null,
            "justify_items": null,
            "left": null,
            "margin": null,
            "max_height": null,
            "max_width": null,
            "min_height": null,
            "min_width": null,
            "object_fit": null,
            "object_position": null,
            "order": null,
            "overflow": null,
            "overflow_x": null,
            "overflow_y": null,
            "padding": null,
            "right": null,
            "top": null,
            "visibility": null,
            "width": null
          }
        },
        "5c617bddec014c29b1bc9615f2217e6b": {
          "model_module": "@jupyter-widgets/base",
          "model_name": "LayoutModel",
          "model_module_version": "1.2.0",
          "state": {
            "_model_module": "@jupyter-widgets/base",
            "_model_module_version": "1.2.0",
            "_model_name": "LayoutModel",
            "_view_count": null,
            "_view_module": "@jupyter-widgets/base",
            "_view_module_version": "1.2.0",
            "_view_name": "LayoutView",
            "align_content": null,
            "align_items": null,
            "align_self": null,
            "border": null,
            "bottom": null,
            "display": null,
            "flex": null,
            "flex_flow": null,
            "grid_area": null,
            "grid_auto_columns": null,
            "grid_auto_flow": null,
            "grid_auto_rows": null,
            "grid_column": null,
            "grid_gap": null,
            "grid_row": null,
            "grid_template_areas": null,
            "grid_template_columns": null,
            "grid_template_rows": null,
            "height": null,
            "justify_content": null,
            "justify_items": null,
            "left": null,
            "margin": null,
            "max_height": null,
            "max_width": null,
            "min_height": null,
            "min_width": null,
            "object_fit": null,
            "object_position": null,
            "order": null,
            "overflow": null,
            "overflow_x": null,
            "overflow_y": null,
            "padding": null,
            "right": null,
            "top": null,
            "visibility": null,
            "width": null
          }
        },
        "f9f9afb997104191834e59ed3cfb500d": {
          "model_module": "@jupyter-widgets/controls",
          "model_name": "DescriptionStyleModel",
          "model_module_version": "1.5.0",
          "state": {
            "_model_module": "@jupyter-widgets/controls",
            "_model_module_version": "1.5.0",
            "_model_name": "DescriptionStyleModel",
            "_view_count": null,
            "_view_module": "@jupyter-widgets/base",
            "_view_module_version": "1.2.0",
            "_view_name": "StyleView",
            "description_width": ""
          }
        },
        "c459c4aeac084c1abd5f28e1b75943d1": {
          "model_module": "@jupyter-widgets/base",
          "model_name": "LayoutModel",
          "model_module_version": "1.2.0",
          "state": {
            "_model_module": "@jupyter-widgets/base",
            "_model_module_version": "1.2.0",
            "_model_name": "LayoutModel",
            "_view_count": null,
            "_view_module": "@jupyter-widgets/base",
            "_view_module_version": "1.2.0",
            "_view_name": "LayoutView",
            "align_content": null,
            "align_items": null,
            "align_self": null,
            "border": null,
            "bottom": null,
            "display": null,
            "flex": null,
            "flex_flow": null,
            "grid_area": null,
            "grid_auto_columns": null,
            "grid_auto_flow": null,
            "grid_auto_rows": null,
            "grid_column": null,
            "grid_gap": null,
            "grid_row": null,
            "grid_template_areas": null,
            "grid_template_columns": null,
            "grid_template_rows": null,
            "height": null,
            "justify_content": null,
            "justify_items": null,
            "left": null,
            "margin": null,
            "max_height": null,
            "max_width": null,
            "min_height": null,
            "min_width": null,
            "object_fit": null,
            "object_position": null,
            "order": null,
            "overflow": null,
            "overflow_x": null,
            "overflow_y": null,
            "padding": null,
            "right": null,
            "top": null,
            "visibility": null,
            "width": "20px"
          }
        },
        "e7669af410e946b08617ed8a9074d971": {
          "model_module": "@jupyter-widgets/controls",
          "model_name": "ProgressStyleModel",
          "model_module_version": "1.5.0",
          "state": {
            "_model_module": "@jupyter-widgets/controls",
            "_model_module_version": "1.5.0",
            "_model_name": "ProgressStyleModel",
            "_view_count": null,
            "_view_module": "@jupyter-widgets/base",
            "_view_module_version": "1.2.0",
            "_view_name": "StyleView",
            "bar_color": null,
            "description_width": ""
          }
        },
        "2fb254c749ee4ee9a235a481c6178c18": {
          "model_module": "@jupyter-widgets/base",
          "model_name": "LayoutModel",
          "model_module_version": "1.2.0",
          "state": {
            "_model_module": "@jupyter-widgets/base",
            "_model_module_version": "1.2.0",
            "_model_name": "LayoutModel",
            "_view_count": null,
            "_view_module": "@jupyter-widgets/base",
            "_view_module_version": "1.2.0",
            "_view_name": "LayoutView",
            "align_content": null,
            "align_items": null,
            "align_self": null,
            "border": null,
            "bottom": null,
            "display": null,
            "flex": null,
            "flex_flow": null,
            "grid_area": null,
            "grid_auto_columns": null,
            "grid_auto_flow": null,
            "grid_auto_rows": null,
            "grid_column": null,
            "grid_gap": null,
            "grid_row": null,
            "grid_template_areas": null,
            "grid_template_columns": null,
            "grid_template_rows": null,
            "height": null,
            "justify_content": null,
            "justify_items": null,
            "left": null,
            "margin": null,
            "max_height": null,
            "max_width": null,
            "min_height": null,
            "min_width": null,
            "object_fit": null,
            "object_position": null,
            "order": null,
            "overflow": null,
            "overflow_x": null,
            "overflow_y": null,
            "padding": null,
            "right": null,
            "top": null,
            "visibility": null,
            "width": null
          }
        },
        "c72348337c984a4f8693d07fa0da387d": {
          "model_module": "@jupyter-widgets/controls",
          "model_name": "DescriptionStyleModel",
          "model_module_version": "1.5.0",
          "state": {
            "_model_module": "@jupyter-widgets/controls",
            "_model_module_version": "1.5.0",
            "_model_name": "DescriptionStyleModel",
            "_view_count": null,
            "_view_module": "@jupyter-widgets/base",
            "_view_module_version": "1.2.0",
            "_view_name": "StyleView",
            "description_width": ""
          }
        },
        "54b441ab25934cc89981afb0189eeb78": {
          "model_module": "@jupyter-widgets/controls",
          "model_name": "HBoxModel",
          "model_module_version": "1.5.0",
          "state": {
            "_dom_classes": [],
            "_model_module": "@jupyter-widgets/controls",
            "_model_module_version": "1.5.0",
            "_model_name": "HBoxModel",
            "_view_count": null,
            "_view_module": "@jupyter-widgets/controls",
            "_view_module_version": "1.5.0",
            "_view_name": "HBoxView",
            "box_style": "",
            "children": [
              "IPY_MODEL_612e6f6c294b4dacad50e064fb4a1412",
              "IPY_MODEL_300e9f47903d4a93b2829b1de3cc2c1b",
              "IPY_MODEL_1fd7bb7438c64301aaadf9197c8da696"
            ],
            "layout": "IPY_MODEL_bc9cd6bbc5ff41fabc9c1dbc4d7ce849"
          }
        },
        "612e6f6c294b4dacad50e064fb4a1412": {
          "model_module": "@jupyter-widgets/controls",
          "model_name": "HTMLModel",
          "model_module_version": "1.5.0",
          "state": {
            "_dom_classes": [],
            "_model_module": "@jupyter-widgets/controls",
            "_model_module_version": "1.5.0",
            "_model_name": "HTMLModel",
            "_view_count": null,
            "_view_module": "@jupyter-widgets/controls",
            "_view_module_version": "1.5.0",
            "_view_name": "HTMLView",
            "description": "",
            "description_tooltip": null,
            "layout": "IPY_MODEL_652cd229c0b14dd5b5a61a66c9964999",
            "placeholder": "​",
            "style": "IPY_MODEL_13713fc6e79e40f08e26061ccc3a1621",
            "value": "Dl Size...: 100%"
          }
        },
        "300e9f47903d4a93b2829b1de3cc2c1b": {
          "model_module": "@jupyter-widgets/controls",
          "model_name": "FloatProgressModel",
          "model_module_version": "1.5.0",
          "state": {
            "_dom_classes": [],
            "_model_module": "@jupyter-widgets/controls",
            "_model_module_version": "1.5.0",
            "_model_name": "FloatProgressModel",
            "_view_count": null,
            "_view_module": "@jupyter-widgets/controls",
            "_view_module_version": "1.5.0",
            "_view_name": "ProgressView",
            "bar_style": "success",
            "description": "",
            "description_tooltip": null,
            "layout": "IPY_MODEL_ef6bb32084f74352ac3573a1adf18950",
            "max": 1,
            "min": 0,
            "orientation": "horizontal",
            "style": "IPY_MODEL_e4dd5baa639f43ec8134121e5824daa0",
            "value": 1
          }
        },
        "1fd7bb7438c64301aaadf9197c8da696": {
          "model_module": "@jupyter-widgets/controls",
          "model_name": "HTMLModel",
          "model_module_version": "1.5.0",
          "state": {
            "_dom_classes": [],
            "_model_module": "@jupyter-widgets/controls",
            "_model_module_version": "1.5.0",
            "_model_name": "HTMLModel",
            "_view_count": null,
            "_view_module": "@jupyter-widgets/controls",
            "_view_module_version": "1.5.0",
            "_view_name": "HTMLView",
            "description": "",
            "description_tooltip": null,
            "layout": "IPY_MODEL_80bb8562723f4fd297cccdb1193caf76",
            "placeholder": "​",
            "style": "IPY_MODEL_8682752ff18145cd976dc9575e972427",
            "value": " 80/80 [00:03&lt;00:00, 39.11 MiB/s]"
          }
        },
        "bc9cd6bbc5ff41fabc9c1dbc4d7ce849": {
          "model_module": "@jupyter-widgets/base",
          "model_name": "LayoutModel",
          "model_module_version": "1.2.0",
          "state": {
            "_model_module": "@jupyter-widgets/base",
            "_model_module_version": "1.2.0",
            "_model_name": "LayoutModel",
            "_view_count": null,
            "_view_module": "@jupyter-widgets/base",
            "_view_module_version": "1.2.0",
            "_view_name": "LayoutView",
            "align_content": null,
            "align_items": null,
            "align_self": null,
            "border": null,
            "bottom": null,
            "display": null,
            "flex": null,
            "flex_flow": null,
            "grid_area": null,
            "grid_auto_columns": null,
            "grid_auto_flow": null,
            "grid_auto_rows": null,
            "grid_column": null,
            "grid_gap": null,
            "grid_row": null,
            "grid_template_areas": null,
            "grid_template_columns": null,
            "grid_template_rows": null,
            "height": null,
            "justify_content": null,
            "justify_items": null,
            "left": null,
            "margin": null,
            "max_height": null,
            "max_width": null,
            "min_height": null,
            "min_width": null,
            "object_fit": null,
            "object_position": null,
            "order": null,
            "overflow": null,
            "overflow_x": null,
            "overflow_y": null,
            "padding": null,
            "right": null,
            "top": null,
            "visibility": null,
            "width": null
          }
        },
        "652cd229c0b14dd5b5a61a66c9964999": {
          "model_module": "@jupyter-widgets/base",
          "model_name": "LayoutModel",
          "model_module_version": "1.2.0",
          "state": {
            "_model_module": "@jupyter-widgets/base",
            "_model_module_version": "1.2.0",
            "_model_name": "LayoutModel",
            "_view_count": null,
            "_view_module": "@jupyter-widgets/base",
            "_view_module_version": "1.2.0",
            "_view_name": "LayoutView",
            "align_content": null,
            "align_items": null,
            "align_self": null,
            "border": null,
            "bottom": null,
            "display": null,
            "flex": null,
            "flex_flow": null,
            "grid_area": null,
            "grid_auto_columns": null,
            "grid_auto_flow": null,
            "grid_auto_rows": null,
            "grid_column": null,
            "grid_gap": null,
            "grid_row": null,
            "grid_template_areas": null,
            "grid_template_columns": null,
            "grid_template_rows": null,
            "height": null,
            "justify_content": null,
            "justify_items": null,
            "left": null,
            "margin": null,
            "max_height": null,
            "max_width": null,
            "min_height": null,
            "min_width": null,
            "object_fit": null,
            "object_position": null,
            "order": null,
            "overflow": null,
            "overflow_x": null,
            "overflow_y": null,
            "padding": null,
            "right": null,
            "top": null,
            "visibility": null,
            "width": null
          }
        },
        "13713fc6e79e40f08e26061ccc3a1621": {
          "model_module": "@jupyter-widgets/controls",
          "model_name": "DescriptionStyleModel",
          "model_module_version": "1.5.0",
          "state": {
            "_model_module": "@jupyter-widgets/controls",
            "_model_module_version": "1.5.0",
            "_model_name": "DescriptionStyleModel",
            "_view_count": null,
            "_view_module": "@jupyter-widgets/base",
            "_view_module_version": "1.2.0",
            "_view_name": "StyleView",
            "description_width": ""
          }
        },
        "ef6bb32084f74352ac3573a1adf18950": {
          "model_module": "@jupyter-widgets/base",
          "model_name": "LayoutModel",
          "model_module_version": "1.2.0",
          "state": {
            "_model_module": "@jupyter-widgets/base",
            "_model_module_version": "1.2.0",
            "_model_name": "LayoutModel",
            "_view_count": null,
            "_view_module": "@jupyter-widgets/base",
            "_view_module_version": "1.2.0",
            "_view_name": "LayoutView",
            "align_content": null,
            "align_items": null,
            "align_self": null,
            "border": null,
            "bottom": null,
            "display": null,
            "flex": null,
            "flex_flow": null,
            "grid_area": null,
            "grid_auto_columns": null,
            "grid_auto_flow": null,
            "grid_auto_rows": null,
            "grid_column": null,
            "grid_gap": null,
            "grid_row": null,
            "grid_template_areas": null,
            "grid_template_columns": null,
            "grid_template_rows": null,
            "height": null,
            "justify_content": null,
            "justify_items": null,
            "left": null,
            "margin": null,
            "max_height": null,
            "max_width": null,
            "min_height": null,
            "min_width": null,
            "object_fit": null,
            "object_position": null,
            "order": null,
            "overflow": null,
            "overflow_x": null,
            "overflow_y": null,
            "padding": null,
            "right": null,
            "top": null,
            "visibility": null,
            "width": "20px"
          }
        },
        "e4dd5baa639f43ec8134121e5824daa0": {
          "model_module": "@jupyter-widgets/controls",
          "model_name": "ProgressStyleModel",
          "model_module_version": "1.5.0",
          "state": {
            "_model_module": "@jupyter-widgets/controls",
            "_model_module_version": "1.5.0",
            "_model_name": "ProgressStyleModel",
            "_view_count": null,
            "_view_module": "@jupyter-widgets/base",
            "_view_module_version": "1.2.0",
            "_view_name": "StyleView",
            "bar_color": null,
            "description_width": ""
          }
        },
        "80bb8562723f4fd297cccdb1193caf76": {
          "model_module": "@jupyter-widgets/base",
          "model_name": "LayoutModel",
          "model_module_version": "1.2.0",
          "state": {
            "_model_module": "@jupyter-widgets/base",
            "_model_module_version": "1.2.0",
            "_model_name": "LayoutModel",
            "_view_count": null,
            "_view_module": "@jupyter-widgets/base",
            "_view_module_version": "1.2.0",
            "_view_name": "LayoutView",
            "align_content": null,
            "align_items": null,
            "align_self": null,
            "border": null,
            "bottom": null,
            "display": null,
            "flex": null,
            "flex_flow": null,
            "grid_area": null,
            "grid_auto_columns": null,
            "grid_auto_flow": null,
            "grid_auto_rows": null,
            "grid_column": null,
            "grid_gap": null,
            "grid_row": null,
            "grid_template_areas": null,
            "grid_template_columns": null,
            "grid_template_rows": null,
            "height": null,
            "justify_content": null,
            "justify_items": null,
            "left": null,
            "margin": null,
            "max_height": null,
            "max_width": null,
            "min_height": null,
            "min_width": null,
            "object_fit": null,
            "object_position": null,
            "order": null,
            "overflow": null,
            "overflow_x": null,
            "overflow_y": null,
            "padding": null,
            "right": null,
            "top": null,
            "visibility": null,
            "width": null
          }
        },
        "8682752ff18145cd976dc9575e972427": {
          "model_module": "@jupyter-widgets/controls",
          "model_name": "DescriptionStyleModel",
          "model_module_version": "1.5.0",
          "state": {
            "_model_module": "@jupyter-widgets/controls",
            "_model_module_version": "1.5.0",
            "_model_name": "DescriptionStyleModel",
            "_view_count": null,
            "_view_module": "@jupyter-widgets/base",
            "_view_module_version": "1.2.0",
            "_view_name": "StyleView",
            "description_width": ""
          }
        },
        "e374c78600a4490c8ff41c4095e1aefb": {
          "model_module": "@jupyter-widgets/controls",
          "model_name": "HBoxModel",
          "model_module_version": "1.5.0",
          "state": {
            "_dom_classes": [],
            "_model_module": "@jupyter-widgets/controls",
            "_model_module_version": "1.5.0",
            "_model_name": "HBoxModel",
            "_view_count": null,
            "_view_module": "@jupyter-widgets/controls",
            "_view_module_version": "1.5.0",
            "_view_name": "HBoxView",
            "box_style": "",
            "children": [
              "IPY_MODEL_3ccd36492a654085ba56600ded36a5b9",
              "IPY_MODEL_a60b223e5b0d40a5887d30ba17e4789e",
              "IPY_MODEL_70354249e1934a5ca28c3a269fbe8c34"
            ],
            "layout": "IPY_MODEL_3c05fad591974612ba4daa2805dcf8fe"
          }
        },
        "3ccd36492a654085ba56600ded36a5b9": {
          "model_module": "@jupyter-widgets/controls",
          "model_name": "HTMLModel",
          "model_module_version": "1.5.0",
          "state": {
            "_dom_classes": [],
            "_model_module": "@jupyter-widgets/controls",
            "_model_module_version": "1.5.0",
            "_model_name": "HTMLModel",
            "_view_count": null,
            "_view_module": "@jupyter-widgets/controls",
            "_view_module_version": "1.5.0",
            "_view_name": "HTMLView",
            "description": "",
            "description_tooltip": null,
            "layout": "IPY_MODEL_ec4aadc2d8ff45b5b48d71484de827a9",
            "placeholder": "​",
            "style": "IPY_MODEL_9d36a82568c747ce9c89fe55c4c31b54",
            "value": "Generating splits...: 100%"
          }
        },
        "a60b223e5b0d40a5887d30ba17e4789e": {
          "model_module": "@jupyter-widgets/controls",
          "model_name": "FloatProgressModel",
          "model_module_version": "1.5.0",
          "state": {
            "_dom_classes": [],
            "_model_module": "@jupyter-widgets/controls",
            "_model_module_version": "1.5.0",
            "_model_name": "FloatProgressModel",
            "_view_count": null,
            "_view_module": "@jupyter-widgets/controls",
            "_view_module_version": "1.5.0",
            "_view_name": "ProgressView",
            "bar_style": "",
            "description": "",
            "description_tooltip": null,
            "layout": "IPY_MODEL_05c582c14b7d47688bd3268b2e2c1ce1",
            "max": 3,
            "min": 0,
            "orientation": "horizontal",
            "style": "IPY_MODEL_b60a3689162d4106b49b1fdeba059c24",
            "value": 3
          }
        },
        "70354249e1934a5ca28c3a269fbe8c34": {
          "model_module": "@jupyter-widgets/controls",
          "model_name": "HTMLModel",
          "model_module_version": "1.5.0",
          "state": {
            "_dom_classes": [],
            "_model_module": "@jupyter-widgets/controls",
            "_model_module_version": "1.5.0",
            "_model_name": "HTMLModel",
            "_view_count": null,
            "_view_module": "@jupyter-widgets/controls",
            "_view_module_version": "1.5.0",
            "_view_name": "HTMLView",
            "description": "",
            "description_tooltip": null,
            "layout": "IPY_MODEL_988b55b0c21d4acf99ea580a634bc8e7",
            "placeholder": "​",
            "style": "IPY_MODEL_1763d648ab7a48dda170037e8b92042a",
            "value": " 3/3 [00:48&lt;00:00, 15.77s/ splits]"
          }
        },
        "3c05fad591974612ba4daa2805dcf8fe": {
          "model_module": "@jupyter-widgets/base",
          "model_name": "LayoutModel",
          "model_module_version": "1.2.0",
          "state": {
            "_model_module": "@jupyter-widgets/base",
            "_model_module_version": "1.2.0",
            "_model_name": "LayoutModel",
            "_view_count": null,
            "_view_module": "@jupyter-widgets/base",
            "_view_module_version": "1.2.0",
            "_view_name": "LayoutView",
            "align_content": null,
            "align_items": null,
            "align_self": null,
            "border": null,
            "bottom": null,
            "display": null,
            "flex": null,
            "flex_flow": null,
            "grid_area": null,
            "grid_auto_columns": null,
            "grid_auto_flow": null,
            "grid_auto_rows": null,
            "grid_column": null,
            "grid_gap": null,
            "grid_row": null,
            "grid_template_areas": null,
            "grid_template_columns": null,
            "grid_template_rows": null,
            "height": null,
            "justify_content": null,
            "justify_items": null,
            "left": null,
            "margin": null,
            "max_height": null,
            "max_width": null,
            "min_height": null,
            "min_width": null,
            "object_fit": null,
            "object_position": null,
            "order": null,
            "overflow": null,
            "overflow_x": null,
            "overflow_y": null,
            "padding": null,
            "right": null,
            "top": null,
            "visibility": "hidden",
            "width": null
          }
        },
        "ec4aadc2d8ff45b5b48d71484de827a9": {
          "model_module": "@jupyter-widgets/base",
          "model_name": "LayoutModel",
          "model_module_version": "1.2.0",
          "state": {
            "_model_module": "@jupyter-widgets/base",
            "_model_module_version": "1.2.0",
            "_model_name": "LayoutModel",
            "_view_count": null,
            "_view_module": "@jupyter-widgets/base",
            "_view_module_version": "1.2.0",
            "_view_name": "LayoutView",
            "align_content": null,
            "align_items": null,
            "align_self": null,
            "border": null,
            "bottom": null,
            "display": null,
            "flex": null,
            "flex_flow": null,
            "grid_area": null,
            "grid_auto_columns": null,
            "grid_auto_flow": null,
            "grid_auto_rows": null,
            "grid_column": null,
            "grid_gap": null,
            "grid_row": null,
            "grid_template_areas": null,
            "grid_template_columns": null,
            "grid_template_rows": null,
            "height": null,
            "justify_content": null,
            "justify_items": null,
            "left": null,
            "margin": null,
            "max_height": null,
            "max_width": null,
            "min_height": null,
            "min_width": null,
            "object_fit": null,
            "object_position": null,
            "order": null,
            "overflow": null,
            "overflow_x": null,
            "overflow_y": null,
            "padding": null,
            "right": null,
            "top": null,
            "visibility": null,
            "width": null
          }
        },
        "9d36a82568c747ce9c89fe55c4c31b54": {
          "model_module": "@jupyter-widgets/controls",
          "model_name": "DescriptionStyleModel",
          "model_module_version": "1.5.0",
          "state": {
            "_model_module": "@jupyter-widgets/controls",
            "_model_module_version": "1.5.0",
            "_model_name": "DescriptionStyleModel",
            "_view_count": null,
            "_view_module": "@jupyter-widgets/base",
            "_view_module_version": "1.2.0",
            "_view_name": "StyleView",
            "description_width": ""
          }
        },
        "05c582c14b7d47688bd3268b2e2c1ce1": {
          "model_module": "@jupyter-widgets/base",
          "model_name": "LayoutModel",
          "model_module_version": "1.2.0",
          "state": {
            "_model_module": "@jupyter-widgets/base",
            "_model_module_version": "1.2.0",
            "_model_name": "LayoutModel",
            "_view_count": null,
            "_view_module": "@jupyter-widgets/base",
            "_view_module_version": "1.2.0",
            "_view_name": "LayoutView",
            "align_content": null,
            "align_items": null,
            "align_self": null,
            "border": null,
            "bottom": null,
            "display": null,
            "flex": null,
            "flex_flow": null,
            "grid_area": null,
            "grid_auto_columns": null,
            "grid_auto_flow": null,
            "grid_auto_rows": null,
            "grid_column": null,
            "grid_gap": null,
            "grid_row": null,
            "grid_template_areas": null,
            "grid_template_columns": null,
            "grid_template_rows": null,
            "height": null,
            "justify_content": null,
            "justify_items": null,
            "left": null,
            "margin": null,
            "max_height": null,
            "max_width": null,
            "min_height": null,
            "min_width": null,
            "object_fit": null,
            "object_position": null,
            "order": null,
            "overflow": null,
            "overflow_x": null,
            "overflow_y": null,
            "padding": null,
            "right": null,
            "top": null,
            "visibility": null,
            "width": null
          }
        },
        "b60a3689162d4106b49b1fdeba059c24": {
          "model_module": "@jupyter-widgets/controls",
          "model_name": "ProgressStyleModel",
          "model_module_version": "1.5.0",
          "state": {
            "_model_module": "@jupyter-widgets/controls",
            "_model_module_version": "1.5.0",
            "_model_name": "ProgressStyleModel",
            "_view_count": null,
            "_view_module": "@jupyter-widgets/base",
            "_view_module_version": "1.2.0",
            "_view_name": "StyleView",
            "bar_color": null,
            "description_width": ""
          }
        },
        "988b55b0c21d4acf99ea580a634bc8e7": {
          "model_module": "@jupyter-widgets/base",
          "model_name": "LayoutModel",
          "model_module_version": "1.2.0",
          "state": {
            "_model_module": "@jupyter-widgets/base",
            "_model_module_version": "1.2.0",
            "_model_name": "LayoutModel",
            "_view_count": null,
            "_view_module": "@jupyter-widgets/base",
            "_view_module_version": "1.2.0",
            "_view_name": "LayoutView",
            "align_content": null,
            "align_items": null,
            "align_self": null,
            "border": null,
            "bottom": null,
            "display": null,
            "flex": null,
            "flex_flow": null,
            "grid_area": null,
            "grid_auto_columns": null,
            "grid_auto_flow": null,
            "grid_auto_rows": null,
            "grid_column": null,
            "grid_gap": null,
            "grid_row": null,
            "grid_template_areas": null,
            "grid_template_columns": null,
            "grid_template_rows": null,
            "height": null,
            "justify_content": null,
            "justify_items": null,
            "left": null,
            "margin": null,
            "max_height": null,
            "max_width": null,
            "min_height": null,
            "min_width": null,
            "object_fit": null,
            "object_position": null,
            "order": null,
            "overflow": null,
            "overflow_x": null,
            "overflow_y": null,
            "padding": null,
            "right": null,
            "top": null,
            "visibility": null,
            "width": null
          }
        },
        "1763d648ab7a48dda170037e8b92042a": {
          "model_module": "@jupyter-widgets/controls",
          "model_name": "DescriptionStyleModel",
          "model_module_version": "1.5.0",
          "state": {
            "_model_module": "@jupyter-widgets/controls",
            "_model_module_version": "1.5.0",
            "_model_name": "DescriptionStyleModel",
            "_view_count": null,
            "_view_module": "@jupyter-widgets/base",
            "_view_module_version": "1.2.0",
            "_view_name": "StyleView",
            "description_width": ""
          }
        },
        "e808956e46934fa5800a65260c3d2c90": {
          "model_module": "@jupyter-widgets/controls",
          "model_name": "HBoxModel",
          "model_module_version": "1.5.0",
          "state": {
            "_dom_classes": [],
            "_model_module": "@jupyter-widgets/controls",
            "_model_module_version": "1.5.0",
            "_model_name": "HBoxModel",
            "_view_count": null,
            "_view_module": "@jupyter-widgets/controls",
            "_view_module_version": "1.5.0",
            "_view_name": "HBoxView",
            "box_style": "",
            "children": [
              "IPY_MODEL_f5c10dec7b074c88865ddd65f44938a0",
              "IPY_MODEL_49e6de938bce4982a2bc3ff515a53d56",
              "IPY_MODEL_def4e3d6c0b04dd8a3df1f812e96a39d"
            ],
            "layout": "IPY_MODEL_b62e33866aca487a933e48e54af92913"
          }
        },
        "f5c10dec7b074c88865ddd65f44938a0": {
          "model_module": "@jupyter-widgets/controls",
          "model_name": "HTMLModel",
          "model_module_version": "1.5.0",
          "state": {
            "_dom_classes": [],
            "_model_module": "@jupyter-widgets/controls",
            "_model_module_version": "1.5.0",
            "_model_name": "HTMLModel",
            "_view_count": null,
            "_view_module": "@jupyter-widgets/controls",
            "_view_module_version": "1.5.0",
            "_view_name": "HTMLView",
            "description": "",
            "description_tooltip": null,
            "layout": "IPY_MODEL_53568da829a241a78b9cea563f5450d8",
            "placeholder": "​",
            "style": "IPY_MODEL_df9691b236ce400e98dd5759ec8747cc",
            "value": "Generating train examples...:  99%"
          }
        },
        "49e6de938bce4982a2bc3ff515a53d56": {
          "model_module": "@jupyter-widgets/controls",
          "model_name": "FloatProgressModel",
          "model_module_version": "1.5.0",
          "state": {
            "_dom_classes": [],
            "_model_module": "@jupyter-widgets/controls",
            "_model_module_version": "1.5.0",
            "_model_name": "FloatProgressModel",
            "_view_count": null,
            "_view_module": "@jupyter-widgets/controls",
            "_view_module_version": "1.5.0",
            "_view_name": "ProgressView",
            "bar_style": "",
            "description": "",
            "description_tooltip": null,
            "layout": "IPY_MODEL_367c2035c548453d8283084dc15ac78f",
            "max": 25000,
            "min": 0,
            "orientation": "horizontal",
            "style": "IPY_MODEL_d809d9677eea469bbc090954e00605e1",
            "value": 25000
          }
        },
        "def4e3d6c0b04dd8a3df1f812e96a39d": {
          "model_module": "@jupyter-widgets/controls",
          "model_name": "HTMLModel",
          "model_module_version": "1.5.0",
          "state": {
            "_dom_classes": [],
            "_model_module": "@jupyter-widgets/controls",
            "_model_module_version": "1.5.0",
            "_model_name": "HTMLModel",
            "_view_count": null,
            "_view_module": "@jupyter-widgets/controls",
            "_view_module_version": "1.5.0",
            "_view_name": "HTMLView",
            "description": "",
            "description_tooltip": null,
            "layout": "IPY_MODEL_e2a1a07fad9847d096bd44a19a2dd30a",
            "placeholder": "​",
            "style": "IPY_MODEL_64f879439a35439ab11cfa297c881621",
            "value": " 24835/25000 [00:09&lt;00:00, 2393.98 examples/s]"
          }
        },
        "b62e33866aca487a933e48e54af92913": {
          "model_module": "@jupyter-widgets/base",
          "model_name": "LayoutModel",
          "model_module_version": "1.2.0",
          "state": {
            "_model_module": "@jupyter-widgets/base",
            "_model_module_version": "1.2.0",
            "_model_name": "LayoutModel",
            "_view_count": null,
            "_view_module": "@jupyter-widgets/base",
            "_view_module_version": "1.2.0",
            "_view_name": "LayoutView",
            "align_content": null,
            "align_items": null,
            "align_self": null,
            "border": null,
            "bottom": null,
            "display": null,
            "flex": null,
            "flex_flow": null,
            "grid_area": null,
            "grid_auto_columns": null,
            "grid_auto_flow": null,
            "grid_auto_rows": null,
            "grid_column": null,
            "grid_gap": null,
            "grid_row": null,
            "grid_template_areas": null,
            "grid_template_columns": null,
            "grid_template_rows": null,
            "height": null,
            "justify_content": null,
            "justify_items": null,
            "left": null,
            "margin": null,
            "max_height": null,
            "max_width": null,
            "min_height": null,
            "min_width": null,
            "object_fit": null,
            "object_position": null,
            "order": null,
            "overflow": null,
            "overflow_x": null,
            "overflow_y": null,
            "padding": null,
            "right": null,
            "top": null,
            "visibility": "hidden",
            "width": null
          }
        },
        "53568da829a241a78b9cea563f5450d8": {
          "model_module": "@jupyter-widgets/base",
          "model_name": "LayoutModel",
          "model_module_version": "1.2.0",
          "state": {
            "_model_module": "@jupyter-widgets/base",
            "_model_module_version": "1.2.0",
            "_model_name": "LayoutModel",
            "_view_count": null,
            "_view_module": "@jupyter-widgets/base",
            "_view_module_version": "1.2.0",
            "_view_name": "LayoutView",
            "align_content": null,
            "align_items": null,
            "align_self": null,
            "border": null,
            "bottom": null,
            "display": null,
            "flex": null,
            "flex_flow": null,
            "grid_area": null,
            "grid_auto_columns": null,
            "grid_auto_flow": null,
            "grid_auto_rows": null,
            "grid_column": null,
            "grid_gap": null,
            "grid_row": null,
            "grid_template_areas": null,
            "grid_template_columns": null,
            "grid_template_rows": null,
            "height": null,
            "justify_content": null,
            "justify_items": null,
            "left": null,
            "margin": null,
            "max_height": null,
            "max_width": null,
            "min_height": null,
            "min_width": null,
            "object_fit": null,
            "object_position": null,
            "order": null,
            "overflow": null,
            "overflow_x": null,
            "overflow_y": null,
            "padding": null,
            "right": null,
            "top": null,
            "visibility": null,
            "width": null
          }
        },
        "df9691b236ce400e98dd5759ec8747cc": {
          "model_module": "@jupyter-widgets/controls",
          "model_name": "DescriptionStyleModel",
          "model_module_version": "1.5.0",
          "state": {
            "_model_module": "@jupyter-widgets/controls",
            "_model_module_version": "1.5.0",
            "_model_name": "DescriptionStyleModel",
            "_view_count": null,
            "_view_module": "@jupyter-widgets/base",
            "_view_module_version": "1.2.0",
            "_view_name": "StyleView",
            "description_width": ""
          }
        },
        "367c2035c548453d8283084dc15ac78f": {
          "model_module": "@jupyter-widgets/base",
          "model_name": "LayoutModel",
          "model_module_version": "1.2.0",
          "state": {
            "_model_module": "@jupyter-widgets/base",
            "_model_module_version": "1.2.0",
            "_model_name": "LayoutModel",
            "_view_count": null,
            "_view_module": "@jupyter-widgets/base",
            "_view_module_version": "1.2.0",
            "_view_name": "LayoutView",
            "align_content": null,
            "align_items": null,
            "align_self": null,
            "border": null,
            "bottom": null,
            "display": null,
            "flex": null,
            "flex_flow": null,
            "grid_area": null,
            "grid_auto_columns": null,
            "grid_auto_flow": null,
            "grid_auto_rows": null,
            "grid_column": null,
            "grid_gap": null,
            "grid_row": null,
            "grid_template_areas": null,
            "grid_template_columns": null,
            "grid_template_rows": null,
            "height": null,
            "justify_content": null,
            "justify_items": null,
            "left": null,
            "margin": null,
            "max_height": null,
            "max_width": null,
            "min_height": null,
            "min_width": null,
            "object_fit": null,
            "object_position": null,
            "order": null,
            "overflow": null,
            "overflow_x": null,
            "overflow_y": null,
            "padding": null,
            "right": null,
            "top": null,
            "visibility": null,
            "width": null
          }
        },
        "d809d9677eea469bbc090954e00605e1": {
          "model_module": "@jupyter-widgets/controls",
          "model_name": "ProgressStyleModel",
          "model_module_version": "1.5.0",
          "state": {
            "_model_module": "@jupyter-widgets/controls",
            "_model_module_version": "1.5.0",
            "_model_name": "ProgressStyleModel",
            "_view_count": null,
            "_view_module": "@jupyter-widgets/base",
            "_view_module_version": "1.2.0",
            "_view_name": "StyleView",
            "bar_color": null,
            "description_width": ""
          }
        },
        "e2a1a07fad9847d096bd44a19a2dd30a": {
          "model_module": "@jupyter-widgets/base",
          "model_name": "LayoutModel",
          "model_module_version": "1.2.0",
          "state": {
            "_model_module": "@jupyter-widgets/base",
            "_model_module_version": "1.2.0",
            "_model_name": "LayoutModel",
            "_view_count": null,
            "_view_module": "@jupyter-widgets/base",
            "_view_module_version": "1.2.0",
            "_view_name": "LayoutView",
            "align_content": null,
            "align_items": null,
            "align_self": null,
            "border": null,
            "bottom": null,
            "display": null,
            "flex": null,
            "flex_flow": null,
            "grid_area": null,
            "grid_auto_columns": null,
            "grid_auto_flow": null,
            "grid_auto_rows": null,
            "grid_column": null,
            "grid_gap": null,
            "grid_row": null,
            "grid_template_areas": null,
            "grid_template_columns": null,
            "grid_template_rows": null,
            "height": null,
            "justify_content": null,
            "justify_items": null,
            "left": null,
            "margin": null,
            "max_height": null,
            "max_width": null,
            "min_height": null,
            "min_width": null,
            "object_fit": null,
            "object_position": null,
            "order": null,
            "overflow": null,
            "overflow_x": null,
            "overflow_y": null,
            "padding": null,
            "right": null,
            "top": null,
            "visibility": null,
            "width": null
          }
        },
        "64f879439a35439ab11cfa297c881621": {
          "model_module": "@jupyter-widgets/controls",
          "model_name": "DescriptionStyleModel",
          "model_module_version": "1.5.0",
          "state": {
            "_model_module": "@jupyter-widgets/controls",
            "_model_module_version": "1.5.0",
            "_model_name": "DescriptionStyleModel",
            "_view_count": null,
            "_view_module": "@jupyter-widgets/base",
            "_view_module_version": "1.2.0",
            "_view_name": "StyleView",
            "description_width": ""
          }
        },
        "b607f49a66d940ee9010e5734c5a3919": {
          "model_module": "@jupyter-widgets/controls",
          "model_name": "HBoxModel",
          "model_module_version": "1.5.0",
          "state": {
            "_dom_classes": [],
            "_model_module": "@jupyter-widgets/controls",
            "_model_module_version": "1.5.0",
            "_model_name": "HBoxModel",
            "_view_count": null,
            "_view_module": "@jupyter-widgets/controls",
            "_view_module_version": "1.5.0",
            "_view_name": "HBoxView",
            "box_style": "",
            "children": [
              "IPY_MODEL_8b13783bf2ba4463a31ad221cbb7f71a",
              "IPY_MODEL_1e612cdab33645798391db7342b21ced",
              "IPY_MODEL_b60b6ebffd854fd78040c2e9ba8bd64c"
            ],
            "layout": "IPY_MODEL_f8cead885d404a3782d736ad49e90e29"
          }
        },
        "8b13783bf2ba4463a31ad221cbb7f71a": {
          "model_module": "@jupyter-widgets/controls",
          "model_name": "HTMLModel",
          "model_module_version": "1.5.0",
          "state": {
            "_dom_classes": [],
            "_model_module": "@jupyter-widgets/controls",
            "_model_module_version": "1.5.0",
            "_model_name": "HTMLModel",
            "_view_count": null,
            "_view_module": "@jupyter-widgets/controls",
            "_view_module_version": "1.5.0",
            "_view_name": "HTMLView",
            "description": "",
            "description_tooltip": null,
            "layout": "IPY_MODEL_d7338e1ac132453dac1dfeb7c6f23495",
            "placeholder": "​",
            "style": "IPY_MODEL_59c7bc15ffe746e6941522ce555a4a5e",
            "value": "Shuffling /root/tensorflow_datasets/imdb_reviews/plain_text/1.0.0.incompleteH1VL49/imdb_reviews-train.tfrecord*...:  80%"
          }
        },
        "1e612cdab33645798391db7342b21ced": {
          "model_module": "@jupyter-widgets/controls",
          "model_name": "FloatProgressModel",
          "model_module_version": "1.5.0",
          "state": {
            "_dom_classes": [],
            "_model_module": "@jupyter-widgets/controls",
            "_model_module_version": "1.5.0",
            "_model_name": "FloatProgressModel",
            "_view_count": null,
            "_view_module": "@jupyter-widgets/controls",
            "_view_module_version": "1.5.0",
            "_view_name": "ProgressView",
            "bar_style": "",
            "description": "",
            "description_tooltip": null,
            "layout": "IPY_MODEL_f78cd698d5ac45df8516e6754d94c066",
            "max": 25000,
            "min": 0,
            "orientation": "horizontal",
            "style": "IPY_MODEL_d93312884b694eac837bf499e248cd05",
            "value": 25000
          }
        },
        "b60b6ebffd854fd78040c2e9ba8bd64c": {
          "model_module": "@jupyter-widgets/controls",
          "model_name": "HTMLModel",
          "model_module_version": "1.5.0",
          "state": {
            "_dom_classes": [],
            "_model_module": "@jupyter-widgets/controls",
            "_model_module_version": "1.5.0",
            "_model_name": "HTMLModel",
            "_view_count": null,
            "_view_module": "@jupyter-widgets/controls",
            "_view_module_version": "1.5.0",
            "_view_name": "HTMLView",
            "description": "",
            "description_tooltip": null,
            "layout": "IPY_MODEL_88a039c6575144c5a89afdc1be437157",
            "placeholder": "​",
            "style": "IPY_MODEL_83d1e59c4c6946ec8f458eb6a3245e27",
            "value": " 19978/25000 [00:00&lt;00:00, 63956.43 examples/s]"
          }
        },
        "f8cead885d404a3782d736ad49e90e29": {
          "model_module": "@jupyter-widgets/base",
          "model_name": "LayoutModel",
          "model_module_version": "1.2.0",
          "state": {
            "_model_module": "@jupyter-widgets/base",
            "_model_module_version": "1.2.0",
            "_model_name": "LayoutModel",
            "_view_count": null,
            "_view_module": "@jupyter-widgets/base",
            "_view_module_version": "1.2.0",
            "_view_name": "LayoutView",
            "align_content": null,
            "align_items": null,
            "align_self": null,
            "border": null,
            "bottom": null,
            "display": null,
            "flex": null,
            "flex_flow": null,
            "grid_area": null,
            "grid_auto_columns": null,
            "grid_auto_flow": null,
            "grid_auto_rows": null,
            "grid_column": null,
            "grid_gap": null,
            "grid_row": null,
            "grid_template_areas": null,
            "grid_template_columns": null,
            "grid_template_rows": null,
            "height": null,
            "justify_content": null,
            "justify_items": null,
            "left": null,
            "margin": null,
            "max_height": null,
            "max_width": null,
            "min_height": null,
            "min_width": null,
            "object_fit": null,
            "object_position": null,
            "order": null,
            "overflow": null,
            "overflow_x": null,
            "overflow_y": null,
            "padding": null,
            "right": null,
            "top": null,
            "visibility": "hidden",
            "width": null
          }
        },
        "d7338e1ac132453dac1dfeb7c6f23495": {
          "model_module": "@jupyter-widgets/base",
          "model_name": "LayoutModel",
          "model_module_version": "1.2.0",
          "state": {
            "_model_module": "@jupyter-widgets/base",
            "_model_module_version": "1.2.0",
            "_model_name": "LayoutModel",
            "_view_count": null,
            "_view_module": "@jupyter-widgets/base",
            "_view_module_version": "1.2.0",
            "_view_name": "LayoutView",
            "align_content": null,
            "align_items": null,
            "align_self": null,
            "border": null,
            "bottom": null,
            "display": null,
            "flex": null,
            "flex_flow": null,
            "grid_area": null,
            "grid_auto_columns": null,
            "grid_auto_flow": null,
            "grid_auto_rows": null,
            "grid_column": null,
            "grid_gap": null,
            "grid_row": null,
            "grid_template_areas": null,
            "grid_template_columns": null,
            "grid_template_rows": null,
            "height": null,
            "justify_content": null,
            "justify_items": null,
            "left": null,
            "margin": null,
            "max_height": null,
            "max_width": null,
            "min_height": null,
            "min_width": null,
            "object_fit": null,
            "object_position": null,
            "order": null,
            "overflow": null,
            "overflow_x": null,
            "overflow_y": null,
            "padding": null,
            "right": null,
            "top": null,
            "visibility": null,
            "width": null
          }
        },
        "59c7bc15ffe746e6941522ce555a4a5e": {
          "model_module": "@jupyter-widgets/controls",
          "model_name": "DescriptionStyleModel",
          "model_module_version": "1.5.0",
          "state": {
            "_model_module": "@jupyter-widgets/controls",
            "_model_module_version": "1.5.0",
            "_model_name": "DescriptionStyleModel",
            "_view_count": null,
            "_view_module": "@jupyter-widgets/base",
            "_view_module_version": "1.2.0",
            "_view_name": "StyleView",
            "description_width": ""
          }
        },
        "f78cd698d5ac45df8516e6754d94c066": {
          "model_module": "@jupyter-widgets/base",
          "model_name": "LayoutModel",
          "model_module_version": "1.2.0",
          "state": {
            "_model_module": "@jupyter-widgets/base",
            "_model_module_version": "1.2.0",
            "_model_name": "LayoutModel",
            "_view_count": null,
            "_view_module": "@jupyter-widgets/base",
            "_view_module_version": "1.2.0",
            "_view_name": "LayoutView",
            "align_content": null,
            "align_items": null,
            "align_self": null,
            "border": null,
            "bottom": null,
            "display": null,
            "flex": null,
            "flex_flow": null,
            "grid_area": null,
            "grid_auto_columns": null,
            "grid_auto_flow": null,
            "grid_auto_rows": null,
            "grid_column": null,
            "grid_gap": null,
            "grid_row": null,
            "grid_template_areas": null,
            "grid_template_columns": null,
            "grid_template_rows": null,
            "height": null,
            "justify_content": null,
            "justify_items": null,
            "left": null,
            "margin": null,
            "max_height": null,
            "max_width": null,
            "min_height": null,
            "min_width": null,
            "object_fit": null,
            "object_position": null,
            "order": null,
            "overflow": null,
            "overflow_x": null,
            "overflow_y": null,
            "padding": null,
            "right": null,
            "top": null,
            "visibility": null,
            "width": null
          }
        },
        "d93312884b694eac837bf499e248cd05": {
          "model_module": "@jupyter-widgets/controls",
          "model_name": "ProgressStyleModel",
          "model_module_version": "1.5.0",
          "state": {
            "_model_module": "@jupyter-widgets/controls",
            "_model_module_version": "1.5.0",
            "_model_name": "ProgressStyleModel",
            "_view_count": null,
            "_view_module": "@jupyter-widgets/base",
            "_view_module_version": "1.2.0",
            "_view_name": "StyleView",
            "bar_color": null,
            "description_width": ""
          }
        },
        "88a039c6575144c5a89afdc1be437157": {
          "model_module": "@jupyter-widgets/base",
          "model_name": "LayoutModel",
          "model_module_version": "1.2.0",
          "state": {
            "_model_module": "@jupyter-widgets/base",
            "_model_module_version": "1.2.0",
            "_model_name": "LayoutModel",
            "_view_count": null,
            "_view_module": "@jupyter-widgets/base",
            "_view_module_version": "1.2.0",
            "_view_name": "LayoutView",
            "align_content": null,
            "align_items": null,
            "align_self": null,
            "border": null,
            "bottom": null,
            "display": null,
            "flex": null,
            "flex_flow": null,
            "grid_area": null,
            "grid_auto_columns": null,
            "grid_auto_flow": null,
            "grid_auto_rows": null,
            "grid_column": null,
            "grid_gap": null,
            "grid_row": null,
            "grid_template_areas": null,
            "grid_template_columns": null,
            "grid_template_rows": null,
            "height": null,
            "justify_content": null,
            "justify_items": null,
            "left": null,
            "margin": null,
            "max_height": null,
            "max_width": null,
            "min_height": null,
            "min_width": null,
            "object_fit": null,
            "object_position": null,
            "order": null,
            "overflow": null,
            "overflow_x": null,
            "overflow_y": null,
            "padding": null,
            "right": null,
            "top": null,
            "visibility": null,
            "width": null
          }
        },
        "83d1e59c4c6946ec8f458eb6a3245e27": {
          "model_module": "@jupyter-widgets/controls",
          "model_name": "DescriptionStyleModel",
          "model_module_version": "1.5.0",
          "state": {
            "_model_module": "@jupyter-widgets/controls",
            "_model_module_version": "1.5.0",
            "_model_name": "DescriptionStyleModel",
            "_view_count": null,
            "_view_module": "@jupyter-widgets/base",
            "_view_module_version": "1.2.0",
            "_view_name": "StyleView",
            "description_width": ""
          }
        },
        "aa8e81322a1d4b70b46c757a327febba": {
          "model_module": "@jupyter-widgets/controls",
          "model_name": "HBoxModel",
          "model_module_version": "1.5.0",
          "state": {
            "_dom_classes": [],
            "_model_module": "@jupyter-widgets/controls",
            "_model_module_version": "1.5.0",
            "_model_name": "HBoxModel",
            "_view_count": null,
            "_view_module": "@jupyter-widgets/controls",
            "_view_module_version": "1.5.0",
            "_view_name": "HBoxView",
            "box_style": "",
            "children": [
              "IPY_MODEL_f8e118797f954b2a994ba0b638951603",
              "IPY_MODEL_ebf99b7ecd9a4678af493254fd676677",
              "IPY_MODEL_f4135432ccfb447ca2c480099f9f39b9"
            ],
            "layout": "IPY_MODEL_916d1ef789794d81ad5011295fc0c0d4"
          }
        },
        "f8e118797f954b2a994ba0b638951603": {
          "model_module": "@jupyter-widgets/controls",
          "model_name": "HTMLModel",
          "model_module_version": "1.5.0",
          "state": {
            "_dom_classes": [],
            "_model_module": "@jupyter-widgets/controls",
            "_model_module_version": "1.5.0",
            "_model_name": "HTMLModel",
            "_view_count": null,
            "_view_module": "@jupyter-widgets/controls",
            "_view_module_version": "1.5.0",
            "_view_name": "HTMLView",
            "description": "",
            "description_tooltip": null,
            "layout": "IPY_MODEL_3e037d17a9d149db93eaf129a5d6bd9e",
            "placeholder": "​",
            "style": "IPY_MODEL_5531410c6b584580aad666d956fec736",
            "value": "Generating test examples...: 100%"
          }
        },
        "ebf99b7ecd9a4678af493254fd676677": {
          "model_module": "@jupyter-widgets/controls",
          "model_name": "FloatProgressModel",
          "model_module_version": "1.5.0",
          "state": {
            "_dom_classes": [],
            "_model_module": "@jupyter-widgets/controls",
            "_model_module_version": "1.5.0",
            "_model_name": "FloatProgressModel",
            "_view_count": null,
            "_view_module": "@jupyter-widgets/controls",
            "_view_module_version": "1.5.0",
            "_view_name": "ProgressView",
            "bar_style": "",
            "description": "",
            "description_tooltip": null,
            "layout": "IPY_MODEL_16362fd2908148a2a834eff1dfc91138",
            "max": 25000,
            "min": 0,
            "orientation": "horizontal",
            "style": "IPY_MODEL_b04f2508540e4b13835734ccfe36eabd",
            "value": 25000
          }
        },
        "f4135432ccfb447ca2c480099f9f39b9": {
          "model_module": "@jupyter-widgets/controls",
          "model_name": "HTMLModel",
          "model_module_version": "1.5.0",
          "state": {
            "_dom_classes": [],
            "_model_module": "@jupyter-widgets/controls",
            "_model_module_version": "1.5.0",
            "_model_name": "HTMLModel",
            "_view_count": null,
            "_view_module": "@jupyter-widgets/controls",
            "_view_module_version": "1.5.0",
            "_view_name": "HTMLView",
            "description": "",
            "description_tooltip": null,
            "layout": "IPY_MODEL_6da5dff48c014c4cb3c12df68983f5b7",
            "placeholder": "​",
            "style": "IPY_MODEL_cd1461f1544e428bbe342f26f8ce342f",
            "value": " 25000/25000 [00:12&lt;00:00, 1157.08 examples/s]"
          }
        },
        "916d1ef789794d81ad5011295fc0c0d4": {
          "model_module": "@jupyter-widgets/base",
          "model_name": "LayoutModel",
          "model_module_version": "1.2.0",
          "state": {
            "_model_module": "@jupyter-widgets/base",
            "_model_module_version": "1.2.0",
            "_model_name": "LayoutModel",
            "_view_count": null,
            "_view_module": "@jupyter-widgets/base",
            "_view_module_version": "1.2.0",
            "_view_name": "LayoutView",
            "align_content": null,
            "align_items": null,
            "align_self": null,
            "border": null,
            "bottom": null,
            "display": null,
            "flex": null,
            "flex_flow": null,
            "grid_area": null,
            "grid_auto_columns": null,
            "grid_auto_flow": null,
            "grid_auto_rows": null,
            "grid_column": null,
            "grid_gap": null,
            "grid_row": null,
            "grid_template_areas": null,
            "grid_template_columns": null,
            "grid_template_rows": null,
            "height": null,
            "justify_content": null,
            "justify_items": null,
            "left": null,
            "margin": null,
            "max_height": null,
            "max_width": null,
            "min_height": null,
            "min_width": null,
            "object_fit": null,
            "object_position": null,
            "order": null,
            "overflow": null,
            "overflow_x": null,
            "overflow_y": null,
            "padding": null,
            "right": null,
            "top": null,
            "visibility": "hidden",
            "width": null
          }
        },
        "3e037d17a9d149db93eaf129a5d6bd9e": {
          "model_module": "@jupyter-widgets/base",
          "model_name": "LayoutModel",
          "model_module_version": "1.2.0",
          "state": {
            "_model_module": "@jupyter-widgets/base",
            "_model_module_version": "1.2.0",
            "_model_name": "LayoutModel",
            "_view_count": null,
            "_view_module": "@jupyter-widgets/base",
            "_view_module_version": "1.2.0",
            "_view_name": "LayoutView",
            "align_content": null,
            "align_items": null,
            "align_self": null,
            "border": null,
            "bottom": null,
            "display": null,
            "flex": null,
            "flex_flow": null,
            "grid_area": null,
            "grid_auto_columns": null,
            "grid_auto_flow": null,
            "grid_auto_rows": null,
            "grid_column": null,
            "grid_gap": null,
            "grid_row": null,
            "grid_template_areas": null,
            "grid_template_columns": null,
            "grid_template_rows": null,
            "height": null,
            "justify_content": null,
            "justify_items": null,
            "left": null,
            "margin": null,
            "max_height": null,
            "max_width": null,
            "min_height": null,
            "min_width": null,
            "object_fit": null,
            "object_position": null,
            "order": null,
            "overflow": null,
            "overflow_x": null,
            "overflow_y": null,
            "padding": null,
            "right": null,
            "top": null,
            "visibility": null,
            "width": null
          }
        },
        "5531410c6b584580aad666d956fec736": {
          "model_module": "@jupyter-widgets/controls",
          "model_name": "DescriptionStyleModel",
          "model_module_version": "1.5.0",
          "state": {
            "_model_module": "@jupyter-widgets/controls",
            "_model_module_version": "1.5.0",
            "_model_name": "DescriptionStyleModel",
            "_view_count": null,
            "_view_module": "@jupyter-widgets/base",
            "_view_module_version": "1.2.0",
            "_view_name": "StyleView",
            "description_width": ""
          }
        },
        "16362fd2908148a2a834eff1dfc91138": {
          "model_module": "@jupyter-widgets/base",
          "model_name": "LayoutModel",
          "model_module_version": "1.2.0",
          "state": {
            "_model_module": "@jupyter-widgets/base",
            "_model_module_version": "1.2.0",
            "_model_name": "LayoutModel",
            "_view_count": null,
            "_view_module": "@jupyter-widgets/base",
            "_view_module_version": "1.2.0",
            "_view_name": "LayoutView",
            "align_content": null,
            "align_items": null,
            "align_self": null,
            "border": null,
            "bottom": null,
            "display": null,
            "flex": null,
            "flex_flow": null,
            "grid_area": null,
            "grid_auto_columns": null,
            "grid_auto_flow": null,
            "grid_auto_rows": null,
            "grid_column": null,
            "grid_gap": null,
            "grid_row": null,
            "grid_template_areas": null,
            "grid_template_columns": null,
            "grid_template_rows": null,
            "height": null,
            "justify_content": null,
            "justify_items": null,
            "left": null,
            "margin": null,
            "max_height": null,
            "max_width": null,
            "min_height": null,
            "min_width": null,
            "object_fit": null,
            "object_position": null,
            "order": null,
            "overflow": null,
            "overflow_x": null,
            "overflow_y": null,
            "padding": null,
            "right": null,
            "top": null,
            "visibility": null,
            "width": null
          }
        },
        "b04f2508540e4b13835734ccfe36eabd": {
          "model_module": "@jupyter-widgets/controls",
          "model_name": "ProgressStyleModel",
          "model_module_version": "1.5.0",
          "state": {
            "_model_module": "@jupyter-widgets/controls",
            "_model_module_version": "1.5.0",
            "_model_name": "ProgressStyleModel",
            "_view_count": null,
            "_view_module": "@jupyter-widgets/base",
            "_view_module_version": "1.2.0",
            "_view_name": "StyleView",
            "bar_color": null,
            "description_width": ""
          }
        },
        "6da5dff48c014c4cb3c12df68983f5b7": {
          "model_module": "@jupyter-widgets/base",
          "model_name": "LayoutModel",
          "model_module_version": "1.2.0",
          "state": {
            "_model_module": "@jupyter-widgets/base",
            "_model_module_version": "1.2.0",
            "_model_name": "LayoutModel",
            "_view_count": null,
            "_view_module": "@jupyter-widgets/base",
            "_view_module_version": "1.2.0",
            "_view_name": "LayoutView",
            "align_content": null,
            "align_items": null,
            "align_self": null,
            "border": null,
            "bottom": null,
            "display": null,
            "flex": null,
            "flex_flow": null,
            "grid_area": null,
            "grid_auto_columns": null,
            "grid_auto_flow": null,
            "grid_auto_rows": null,
            "grid_column": null,
            "grid_gap": null,
            "grid_row": null,
            "grid_template_areas": null,
            "grid_template_columns": null,
            "grid_template_rows": null,
            "height": null,
            "justify_content": null,
            "justify_items": null,
            "left": null,
            "margin": null,
            "max_height": null,
            "max_width": null,
            "min_height": null,
            "min_width": null,
            "object_fit": null,
            "object_position": null,
            "order": null,
            "overflow": null,
            "overflow_x": null,
            "overflow_y": null,
            "padding": null,
            "right": null,
            "top": null,
            "visibility": null,
            "width": null
          }
        },
        "cd1461f1544e428bbe342f26f8ce342f": {
          "model_module": "@jupyter-widgets/controls",
          "model_name": "DescriptionStyleModel",
          "model_module_version": "1.5.0",
          "state": {
            "_model_module": "@jupyter-widgets/controls",
            "_model_module_version": "1.5.0",
            "_model_name": "DescriptionStyleModel",
            "_view_count": null,
            "_view_module": "@jupyter-widgets/base",
            "_view_module_version": "1.2.0",
            "_view_name": "StyleView",
            "description_width": ""
          }
        },
        "61b6ee719c3246348b1a3d06f79bc91d": {
          "model_module": "@jupyter-widgets/controls",
          "model_name": "HBoxModel",
          "model_module_version": "1.5.0",
          "state": {
            "_dom_classes": [],
            "_model_module": "@jupyter-widgets/controls",
            "_model_module_version": "1.5.0",
            "_model_name": "HBoxModel",
            "_view_count": null,
            "_view_module": "@jupyter-widgets/controls",
            "_view_module_version": "1.5.0",
            "_view_name": "HBoxView",
            "box_style": "",
            "children": [
              "IPY_MODEL_e0b7a784a39445298bc32e6bdac5d53b",
              "IPY_MODEL_abcb7f68197945338cbe9fe0a3b620a9",
              "IPY_MODEL_3c437cbb3b964acea2a5e7f52ed18182"
            ],
            "layout": "IPY_MODEL_741cd6eceb1c432ea2243dba0dd3542c"
          }
        },
        "e0b7a784a39445298bc32e6bdac5d53b": {
          "model_module": "@jupyter-widgets/controls",
          "model_name": "HTMLModel",
          "model_module_version": "1.5.0",
          "state": {
            "_dom_classes": [],
            "_model_module": "@jupyter-widgets/controls",
            "_model_module_version": "1.5.0",
            "_model_name": "HTMLModel",
            "_view_count": null,
            "_view_module": "@jupyter-widgets/controls",
            "_view_module_version": "1.5.0",
            "_view_name": "HTMLView",
            "description": "",
            "description_tooltip": null,
            "layout": "IPY_MODEL_f212fcb72c3d49d98526dab5aeee0781",
            "placeholder": "​",
            "style": "IPY_MODEL_98d642746f23428daee6d83be5bc7331",
            "value": "Shuffling /root/tensorflow_datasets/imdb_reviews/plain_text/1.0.0.incompleteH1VL49/imdb_reviews-test.tfrecord*...:  68%"
          }
        },
        "abcb7f68197945338cbe9fe0a3b620a9": {
          "model_module": "@jupyter-widgets/controls",
          "model_name": "FloatProgressModel",
          "model_module_version": "1.5.0",
          "state": {
            "_dom_classes": [],
            "_model_module": "@jupyter-widgets/controls",
            "_model_module_version": "1.5.0",
            "_model_name": "FloatProgressModel",
            "_view_count": null,
            "_view_module": "@jupyter-widgets/controls",
            "_view_module_version": "1.5.0",
            "_view_name": "ProgressView",
            "bar_style": "",
            "description": "",
            "description_tooltip": null,
            "layout": "IPY_MODEL_17e5693cd8e7461a8d19d612fa3d2358",
            "max": 25000,
            "min": 0,
            "orientation": "horizontal",
            "style": "IPY_MODEL_775544f9144345a3accef01b05bd179f",
            "value": 25000
          }
        },
        "3c437cbb3b964acea2a5e7f52ed18182": {
          "model_module": "@jupyter-widgets/controls",
          "model_name": "HTMLModel",
          "model_module_version": "1.5.0",
          "state": {
            "_dom_classes": [],
            "_model_module": "@jupyter-widgets/controls",
            "_model_module_version": "1.5.0",
            "_model_name": "HTMLModel",
            "_view_count": null,
            "_view_module": "@jupyter-widgets/controls",
            "_view_module_version": "1.5.0",
            "_view_name": "HTMLView",
            "description": "",
            "description_tooltip": null,
            "layout": "IPY_MODEL_b38c665a6fb144919c6cb106f014e7cd",
            "placeholder": "​",
            "style": "IPY_MODEL_c60ba0155882483b931a651566af0c5b",
            "value": " 16975/25000 [00:00&lt;00:00, 169726.69 examples/s]"
          }
        },
        "741cd6eceb1c432ea2243dba0dd3542c": {
          "model_module": "@jupyter-widgets/base",
          "model_name": "LayoutModel",
          "model_module_version": "1.2.0",
          "state": {
            "_model_module": "@jupyter-widgets/base",
            "_model_module_version": "1.2.0",
            "_model_name": "LayoutModel",
            "_view_count": null,
            "_view_module": "@jupyter-widgets/base",
            "_view_module_version": "1.2.0",
            "_view_name": "LayoutView",
            "align_content": null,
            "align_items": null,
            "align_self": null,
            "border": null,
            "bottom": null,
            "display": null,
            "flex": null,
            "flex_flow": null,
            "grid_area": null,
            "grid_auto_columns": null,
            "grid_auto_flow": null,
            "grid_auto_rows": null,
            "grid_column": null,
            "grid_gap": null,
            "grid_row": null,
            "grid_template_areas": null,
            "grid_template_columns": null,
            "grid_template_rows": null,
            "height": null,
            "justify_content": null,
            "justify_items": null,
            "left": null,
            "margin": null,
            "max_height": null,
            "max_width": null,
            "min_height": null,
            "min_width": null,
            "object_fit": null,
            "object_position": null,
            "order": null,
            "overflow": null,
            "overflow_x": null,
            "overflow_y": null,
            "padding": null,
            "right": null,
            "top": null,
            "visibility": "hidden",
            "width": null
          }
        },
        "f212fcb72c3d49d98526dab5aeee0781": {
          "model_module": "@jupyter-widgets/base",
          "model_name": "LayoutModel",
          "model_module_version": "1.2.0",
          "state": {
            "_model_module": "@jupyter-widgets/base",
            "_model_module_version": "1.2.0",
            "_model_name": "LayoutModel",
            "_view_count": null,
            "_view_module": "@jupyter-widgets/base",
            "_view_module_version": "1.2.0",
            "_view_name": "LayoutView",
            "align_content": null,
            "align_items": null,
            "align_self": null,
            "border": null,
            "bottom": null,
            "display": null,
            "flex": null,
            "flex_flow": null,
            "grid_area": null,
            "grid_auto_columns": null,
            "grid_auto_flow": null,
            "grid_auto_rows": null,
            "grid_column": null,
            "grid_gap": null,
            "grid_row": null,
            "grid_template_areas": null,
            "grid_template_columns": null,
            "grid_template_rows": null,
            "height": null,
            "justify_content": null,
            "justify_items": null,
            "left": null,
            "margin": null,
            "max_height": null,
            "max_width": null,
            "min_height": null,
            "min_width": null,
            "object_fit": null,
            "object_position": null,
            "order": null,
            "overflow": null,
            "overflow_x": null,
            "overflow_y": null,
            "padding": null,
            "right": null,
            "top": null,
            "visibility": null,
            "width": null
          }
        },
        "98d642746f23428daee6d83be5bc7331": {
          "model_module": "@jupyter-widgets/controls",
          "model_name": "DescriptionStyleModel",
          "model_module_version": "1.5.0",
          "state": {
            "_model_module": "@jupyter-widgets/controls",
            "_model_module_version": "1.5.0",
            "_model_name": "DescriptionStyleModel",
            "_view_count": null,
            "_view_module": "@jupyter-widgets/base",
            "_view_module_version": "1.2.0",
            "_view_name": "StyleView",
            "description_width": ""
          }
        },
        "17e5693cd8e7461a8d19d612fa3d2358": {
          "model_module": "@jupyter-widgets/base",
          "model_name": "LayoutModel",
          "model_module_version": "1.2.0",
          "state": {
            "_model_module": "@jupyter-widgets/base",
            "_model_module_version": "1.2.0",
            "_model_name": "LayoutModel",
            "_view_count": null,
            "_view_module": "@jupyter-widgets/base",
            "_view_module_version": "1.2.0",
            "_view_name": "LayoutView",
            "align_content": null,
            "align_items": null,
            "align_self": null,
            "border": null,
            "bottom": null,
            "display": null,
            "flex": null,
            "flex_flow": null,
            "grid_area": null,
            "grid_auto_columns": null,
            "grid_auto_flow": null,
            "grid_auto_rows": null,
            "grid_column": null,
            "grid_gap": null,
            "grid_row": null,
            "grid_template_areas": null,
            "grid_template_columns": null,
            "grid_template_rows": null,
            "height": null,
            "justify_content": null,
            "justify_items": null,
            "left": null,
            "margin": null,
            "max_height": null,
            "max_width": null,
            "min_height": null,
            "min_width": null,
            "object_fit": null,
            "object_position": null,
            "order": null,
            "overflow": null,
            "overflow_x": null,
            "overflow_y": null,
            "padding": null,
            "right": null,
            "top": null,
            "visibility": null,
            "width": null
          }
        },
        "775544f9144345a3accef01b05bd179f": {
          "model_module": "@jupyter-widgets/controls",
          "model_name": "ProgressStyleModel",
          "model_module_version": "1.5.0",
          "state": {
            "_model_module": "@jupyter-widgets/controls",
            "_model_module_version": "1.5.0",
            "_model_name": "ProgressStyleModel",
            "_view_count": null,
            "_view_module": "@jupyter-widgets/base",
            "_view_module_version": "1.2.0",
            "_view_name": "StyleView",
            "bar_color": null,
            "description_width": ""
          }
        },
        "b38c665a6fb144919c6cb106f014e7cd": {
          "model_module": "@jupyter-widgets/base",
          "model_name": "LayoutModel",
          "model_module_version": "1.2.0",
          "state": {
            "_model_module": "@jupyter-widgets/base",
            "_model_module_version": "1.2.0",
            "_model_name": "LayoutModel",
            "_view_count": null,
            "_view_module": "@jupyter-widgets/base",
            "_view_module_version": "1.2.0",
            "_view_name": "LayoutView",
            "align_content": null,
            "align_items": null,
            "align_self": null,
            "border": null,
            "bottom": null,
            "display": null,
            "flex": null,
            "flex_flow": null,
            "grid_area": null,
            "grid_auto_columns": null,
            "grid_auto_flow": null,
            "grid_auto_rows": null,
            "grid_column": null,
            "grid_gap": null,
            "grid_row": null,
            "grid_template_areas": null,
            "grid_template_columns": null,
            "grid_template_rows": null,
            "height": null,
            "justify_content": null,
            "justify_items": null,
            "left": null,
            "margin": null,
            "max_height": null,
            "max_width": null,
            "min_height": null,
            "min_width": null,
            "object_fit": null,
            "object_position": null,
            "order": null,
            "overflow": null,
            "overflow_x": null,
            "overflow_y": null,
            "padding": null,
            "right": null,
            "top": null,
            "visibility": null,
            "width": null
          }
        },
        "c60ba0155882483b931a651566af0c5b": {
          "model_module": "@jupyter-widgets/controls",
          "model_name": "DescriptionStyleModel",
          "model_module_version": "1.5.0",
          "state": {
            "_model_module": "@jupyter-widgets/controls",
            "_model_module_version": "1.5.0",
            "_model_name": "DescriptionStyleModel",
            "_view_count": null,
            "_view_module": "@jupyter-widgets/base",
            "_view_module_version": "1.2.0",
            "_view_name": "StyleView",
            "description_width": ""
          }
        },
        "21e485c0a35f43b3ab8c81333c74a013": {
          "model_module": "@jupyter-widgets/controls",
          "model_name": "HBoxModel",
          "model_module_version": "1.5.0",
          "state": {
            "_dom_classes": [],
            "_model_module": "@jupyter-widgets/controls",
            "_model_module_version": "1.5.0",
            "_model_name": "HBoxModel",
            "_view_count": null,
            "_view_module": "@jupyter-widgets/controls",
            "_view_module_version": "1.5.0",
            "_view_name": "HBoxView",
            "box_style": "",
            "children": [
              "IPY_MODEL_d9e6af55c3d14ee2a42368d1dd3e8faa",
              "IPY_MODEL_1d818bff1cc04847b7953cd3fb8d4bce",
              "IPY_MODEL_9330f44ad9e34a4ca04fba82ed413b1d"
            ],
            "layout": "IPY_MODEL_0d1430419a53459c9997683ab4a75bb5"
          }
        },
        "d9e6af55c3d14ee2a42368d1dd3e8faa": {
          "model_module": "@jupyter-widgets/controls",
          "model_name": "HTMLModel",
          "model_module_version": "1.5.0",
          "state": {
            "_dom_classes": [],
            "_model_module": "@jupyter-widgets/controls",
            "_model_module_version": "1.5.0",
            "_model_name": "HTMLModel",
            "_view_count": null,
            "_view_module": "@jupyter-widgets/controls",
            "_view_module_version": "1.5.0",
            "_view_name": "HTMLView",
            "description": "",
            "description_tooltip": null,
            "layout": "IPY_MODEL_464fc54df9004e559f9da69b11137ec1",
            "placeholder": "​",
            "style": "IPY_MODEL_d4f8a8a02bb543cda119bbe82af8d2ab",
            "value": "Generating unsupervised examples...:  99%"
          }
        },
        "1d818bff1cc04847b7953cd3fb8d4bce": {
          "model_module": "@jupyter-widgets/controls",
          "model_name": "FloatProgressModel",
          "model_module_version": "1.5.0",
          "state": {
            "_dom_classes": [],
            "_model_module": "@jupyter-widgets/controls",
            "_model_module_version": "1.5.0",
            "_model_name": "FloatProgressModel",
            "_view_count": null,
            "_view_module": "@jupyter-widgets/controls",
            "_view_module_version": "1.5.0",
            "_view_name": "ProgressView",
            "bar_style": "",
            "description": "",
            "description_tooltip": null,
            "layout": "IPY_MODEL_c447a6b390944bf3bc2bb62ac65be059",
            "max": 50000,
            "min": 0,
            "orientation": "horizontal",
            "style": "IPY_MODEL_6429504636e549079b7f756e6733ca2f",
            "value": 50000
          }
        },
        "9330f44ad9e34a4ca04fba82ed413b1d": {
          "model_module": "@jupyter-widgets/controls",
          "model_name": "HTMLModel",
          "model_module_version": "1.5.0",
          "state": {
            "_dom_classes": [],
            "_model_module": "@jupyter-widgets/controls",
            "_model_module_version": "1.5.0",
            "_model_name": "HTMLModel",
            "_view_count": null,
            "_view_module": "@jupyter-widgets/controls",
            "_view_module_version": "1.5.0",
            "_view_name": "HTMLView",
            "description": "",
            "description_tooltip": null,
            "layout": "IPY_MODEL_17352da62a9b4b508d751430d2af1178",
            "placeholder": "​",
            "style": "IPY_MODEL_efb8836e434a4f27a4cd3acf2f01be2b",
            "value": " 49617/50000 [00:13&lt;00:00, 5558.43 examples/s]"
          }
        },
        "0d1430419a53459c9997683ab4a75bb5": {
          "model_module": "@jupyter-widgets/base",
          "model_name": "LayoutModel",
          "model_module_version": "1.2.0",
          "state": {
            "_model_module": "@jupyter-widgets/base",
            "_model_module_version": "1.2.0",
            "_model_name": "LayoutModel",
            "_view_count": null,
            "_view_module": "@jupyter-widgets/base",
            "_view_module_version": "1.2.0",
            "_view_name": "LayoutView",
            "align_content": null,
            "align_items": null,
            "align_self": null,
            "border": null,
            "bottom": null,
            "display": null,
            "flex": null,
            "flex_flow": null,
            "grid_area": null,
            "grid_auto_columns": null,
            "grid_auto_flow": null,
            "grid_auto_rows": null,
            "grid_column": null,
            "grid_gap": null,
            "grid_row": null,
            "grid_template_areas": null,
            "grid_template_columns": null,
            "grid_template_rows": null,
            "height": null,
            "justify_content": null,
            "justify_items": null,
            "left": null,
            "margin": null,
            "max_height": null,
            "max_width": null,
            "min_height": null,
            "min_width": null,
            "object_fit": null,
            "object_position": null,
            "order": null,
            "overflow": null,
            "overflow_x": null,
            "overflow_y": null,
            "padding": null,
            "right": null,
            "top": null,
            "visibility": "hidden",
            "width": null
          }
        },
        "464fc54df9004e559f9da69b11137ec1": {
          "model_module": "@jupyter-widgets/base",
          "model_name": "LayoutModel",
          "model_module_version": "1.2.0",
          "state": {
            "_model_module": "@jupyter-widgets/base",
            "_model_module_version": "1.2.0",
            "_model_name": "LayoutModel",
            "_view_count": null,
            "_view_module": "@jupyter-widgets/base",
            "_view_module_version": "1.2.0",
            "_view_name": "LayoutView",
            "align_content": null,
            "align_items": null,
            "align_self": null,
            "border": null,
            "bottom": null,
            "display": null,
            "flex": null,
            "flex_flow": null,
            "grid_area": null,
            "grid_auto_columns": null,
            "grid_auto_flow": null,
            "grid_auto_rows": null,
            "grid_column": null,
            "grid_gap": null,
            "grid_row": null,
            "grid_template_areas": null,
            "grid_template_columns": null,
            "grid_template_rows": null,
            "height": null,
            "justify_content": null,
            "justify_items": null,
            "left": null,
            "margin": null,
            "max_height": null,
            "max_width": null,
            "min_height": null,
            "min_width": null,
            "object_fit": null,
            "object_position": null,
            "order": null,
            "overflow": null,
            "overflow_x": null,
            "overflow_y": null,
            "padding": null,
            "right": null,
            "top": null,
            "visibility": null,
            "width": null
          }
        },
        "d4f8a8a02bb543cda119bbe82af8d2ab": {
          "model_module": "@jupyter-widgets/controls",
          "model_name": "DescriptionStyleModel",
          "model_module_version": "1.5.0",
          "state": {
            "_model_module": "@jupyter-widgets/controls",
            "_model_module_version": "1.5.0",
            "_model_name": "DescriptionStyleModel",
            "_view_count": null,
            "_view_module": "@jupyter-widgets/base",
            "_view_module_version": "1.2.0",
            "_view_name": "StyleView",
            "description_width": ""
          }
        },
        "c447a6b390944bf3bc2bb62ac65be059": {
          "model_module": "@jupyter-widgets/base",
          "model_name": "LayoutModel",
          "model_module_version": "1.2.0",
          "state": {
            "_model_module": "@jupyter-widgets/base",
            "_model_module_version": "1.2.0",
            "_model_name": "LayoutModel",
            "_view_count": null,
            "_view_module": "@jupyter-widgets/base",
            "_view_module_version": "1.2.0",
            "_view_name": "LayoutView",
            "align_content": null,
            "align_items": null,
            "align_self": null,
            "border": null,
            "bottom": null,
            "display": null,
            "flex": null,
            "flex_flow": null,
            "grid_area": null,
            "grid_auto_columns": null,
            "grid_auto_flow": null,
            "grid_auto_rows": null,
            "grid_column": null,
            "grid_gap": null,
            "grid_row": null,
            "grid_template_areas": null,
            "grid_template_columns": null,
            "grid_template_rows": null,
            "height": null,
            "justify_content": null,
            "justify_items": null,
            "left": null,
            "margin": null,
            "max_height": null,
            "max_width": null,
            "min_height": null,
            "min_width": null,
            "object_fit": null,
            "object_position": null,
            "order": null,
            "overflow": null,
            "overflow_x": null,
            "overflow_y": null,
            "padding": null,
            "right": null,
            "top": null,
            "visibility": null,
            "width": null
          }
        },
        "6429504636e549079b7f756e6733ca2f": {
          "model_module": "@jupyter-widgets/controls",
          "model_name": "ProgressStyleModel",
          "model_module_version": "1.5.0",
          "state": {
            "_model_module": "@jupyter-widgets/controls",
            "_model_module_version": "1.5.0",
            "_model_name": "ProgressStyleModel",
            "_view_count": null,
            "_view_module": "@jupyter-widgets/base",
            "_view_module_version": "1.2.0",
            "_view_name": "StyleView",
            "bar_color": null,
            "description_width": ""
          }
        },
        "17352da62a9b4b508d751430d2af1178": {
          "model_module": "@jupyter-widgets/base",
          "model_name": "LayoutModel",
          "model_module_version": "1.2.0",
          "state": {
            "_model_module": "@jupyter-widgets/base",
            "_model_module_version": "1.2.0",
            "_model_name": "LayoutModel",
            "_view_count": null,
            "_view_module": "@jupyter-widgets/base",
            "_view_module_version": "1.2.0",
            "_view_name": "LayoutView",
            "align_content": null,
            "align_items": null,
            "align_self": null,
            "border": null,
            "bottom": null,
            "display": null,
            "flex": null,
            "flex_flow": null,
            "grid_area": null,
            "grid_auto_columns": null,
            "grid_auto_flow": null,
            "grid_auto_rows": null,
            "grid_column": null,
            "grid_gap": null,
            "grid_row": null,
            "grid_template_areas": null,
            "grid_template_columns": null,
            "grid_template_rows": null,
            "height": null,
            "justify_content": null,
            "justify_items": null,
            "left": null,
            "margin": null,
            "max_height": null,
            "max_width": null,
            "min_height": null,
            "min_width": null,
            "object_fit": null,
            "object_position": null,
            "order": null,
            "overflow": null,
            "overflow_x": null,
            "overflow_y": null,
            "padding": null,
            "right": null,
            "top": null,
            "visibility": null,
            "width": null
          }
        },
        "efb8836e434a4f27a4cd3acf2f01be2b": {
          "model_module": "@jupyter-widgets/controls",
          "model_name": "DescriptionStyleModel",
          "model_module_version": "1.5.0",
          "state": {
            "_model_module": "@jupyter-widgets/controls",
            "_model_module_version": "1.5.0",
            "_model_name": "DescriptionStyleModel",
            "_view_count": null,
            "_view_module": "@jupyter-widgets/base",
            "_view_module_version": "1.2.0",
            "_view_name": "StyleView",
            "description_width": ""
          }
        },
        "120252394151480db6cf85679abdfcd0": {
          "model_module": "@jupyter-widgets/controls",
          "model_name": "HBoxModel",
          "model_module_version": "1.5.0",
          "state": {
            "_dom_classes": [],
            "_model_module": "@jupyter-widgets/controls",
            "_model_module_version": "1.5.0",
            "_model_name": "HBoxModel",
            "_view_count": null,
            "_view_module": "@jupyter-widgets/controls",
            "_view_module_version": "1.5.0",
            "_view_name": "HBoxView",
            "box_style": "",
            "children": [
              "IPY_MODEL_da63597d3661415689c5f7844a6ae142",
              "IPY_MODEL_c63219cfefe443d5babdf9e882d6a607",
              "IPY_MODEL_8d325b845fb4407a9fff5343221646dd"
            ],
            "layout": "IPY_MODEL_698717b4129348d59e9baa2915e845bf"
          }
        },
        "da63597d3661415689c5f7844a6ae142": {
          "model_module": "@jupyter-widgets/controls",
          "model_name": "HTMLModel",
          "model_module_version": "1.5.0",
          "state": {
            "_dom_classes": [],
            "_model_module": "@jupyter-widgets/controls",
            "_model_module_version": "1.5.0",
            "_model_name": "HTMLModel",
            "_view_count": null,
            "_view_module": "@jupyter-widgets/controls",
            "_view_module_version": "1.5.0",
            "_view_name": "HTMLView",
            "description": "",
            "description_tooltip": null,
            "layout": "IPY_MODEL_1c95f0e3d6d8478caeae08b61fc212a7",
            "placeholder": "​",
            "style": "IPY_MODEL_94326407f6cf45d59aa6a85c7d7b30a1",
            "value": "Shuffling /root/tensorflow_datasets/imdb_reviews/plain_text/1.0.0.incompleteH1VL49/imdb_reviews-unsupervised.tfrecord*...:  68%"
          }
        },
        "c63219cfefe443d5babdf9e882d6a607": {
          "model_module": "@jupyter-widgets/controls",
          "model_name": "FloatProgressModel",
          "model_module_version": "1.5.0",
          "state": {
            "_dom_classes": [],
            "_model_module": "@jupyter-widgets/controls",
            "_model_module_version": "1.5.0",
            "_model_name": "FloatProgressModel",
            "_view_count": null,
            "_view_module": "@jupyter-widgets/controls",
            "_view_module_version": "1.5.0",
            "_view_name": "ProgressView",
            "bar_style": "",
            "description": "",
            "description_tooltip": null,
            "layout": "IPY_MODEL_6788cdae40794c58a5ef0f9dedd6a3c8",
            "max": 50000,
            "min": 0,
            "orientation": "horizontal",
            "style": "IPY_MODEL_c1f728caca78414ab67e57bf231d3968",
            "value": 50000
          }
        },
        "8d325b845fb4407a9fff5343221646dd": {
          "model_module": "@jupyter-widgets/controls",
          "model_name": "HTMLModel",
          "model_module_version": "1.5.0",
          "state": {
            "_dom_classes": [],
            "_model_module": "@jupyter-widgets/controls",
            "_model_module_version": "1.5.0",
            "_model_name": "HTMLModel",
            "_view_count": null,
            "_view_module": "@jupyter-widgets/controls",
            "_view_module_version": "1.5.0",
            "_view_name": "HTMLView",
            "description": "",
            "description_tooltip": null,
            "layout": "IPY_MODEL_1a7de7104b4a46ceb636c1b657ad3b40",
            "placeholder": "​",
            "style": "IPY_MODEL_2b835b794af743a0ba68334de9f5331b",
            "value": " 34042/50000 [00:00&lt;00:00, 187622.93 examples/s]"
          }
        },
        "698717b4129348d59e9baa2915e845bf": {
          "model_module": "@jupyter-widgets/base",
          "model_name": "LayoutModel",
          "model_module_version": "1.2.0",
          "state": {
            "_model_module": "@jupyter-widgets/base",
            "_model_module_version": "1.2.0",
            "_model_name": "LayoutModel",
            "_view_count": null,
            "_view_module": "@jupyter-widgets/base",
            "_view_module_version": "1.2.0",
            "_view_name": "LayoutView",
            "align_content": null,
            "align_items": null,
            "align_self": null,
            "border": null,
            "bottom": null,
            "display": null,
            "flex": null,
            "flex_flow": null,
            "grid_area": null,
            "grid_auto_columns": null,
            "grid_auto_flow": null,
            "grid_auto_rows": null,
            "grid_column": null,
            "grid_gap": null,
            "grid_row": null,
            "grid_template_areas": null,
            "grid_template_columns": null,
            "grid_template_rows": null,
            "height": null,
            "justify_content": null,
            "justify_items": null,
            "left": null,
            "margin": null,
            "max_height": null,
            "max_width": null,
            "min_height": null,
            "min_width": null,
            "object_fit": null,
            "object_position": null,
            "order": null,
            "overflow": null,
            "overflow_x": null,
            "overflow_y": null,
            "padding": null,
            "right": null,
            "top": null,
            "visibility": "hidden",
            "width": null
          }
        },
        "1c95f0e3d6d8478caeae08b61fc212a7": {
          "model_module": "@jupyter-widgets/base",
          "model_name": "LayoutModel",
          "model_module_version": "1.2.0",
          "state": {
            "_model_module": "@jupyter-widgets/base",
            "_model_module_version": "1.2.0",
            "_model_name": "LayoutModel",
            "_view_count": null,
            "_view_module": "@jupyter-widgets/base",
            "_view_module_version": "1.2.0",
            "_view_name": "LayoutView",
            "align_content": null,
            "align_items": null,
            "align_self": null,
            "border": null,
            "bottom": null,
            "display": null,
            "flex": null,
            "flex_flow": null,
            "grid_area": null,
            "grid_auto_columns": null,
            "grid_auto_flow": null,
            "grid_auto_rows": null,
            "grid_column": null,
            "grid_gap": null,
            "grid_row": null,
            "grid_template_areas": null,
            "grid_template_columns": null,
            "grid_template_rows": null,
            "height": null,
            "justify_content": null,
            "justify_items": null,
            "left": null,
            "margin": null,
            "max_height": null,
            "max_width": null,
            "min_height": null,
            "min_width": null,
            "object_fit": null,
            "object_position": null,
            "order": null,
            "overflow": null,
            "overflow_x": null,
            "overflow_y": null,
            "padding": null,
            "right": null,
            "top": null,
            "visibility": null,
            "width": null
          }
        },
        "94326407f6cf45d59aa6a85c7d7b30a1": {
          "model_module": "@jupyter-widgets/controls",
          "model_name": "DescriptionStyleModel",
          "model_module_version": "1.5.0",
          "state": {
            "_model_module": "@jupyter-widgets/controls",
            "_model_module_version": "1.5.0",
            "_model_name": "DescriptionStyleModel",
            "_view_count": null,
            "_view_module": "@jupyter-widgets/base",
            "_view_module_version": "1.2.0",
            "_view_name": "StyleView",
            "description_width": ""
          }
        },
        "6788cdae40794c58a5ef0f9dedd6a3c8": {
          "model_module": "@jupyter-widgets/base",
          "model_name": "LayoutModel",
          "model_module_version": "1.2.0",
          "state": {
            "_model_module": "@jupyter-widgets/base",
            "_model_module_version": "1.2.0",
            "_model_name": "LayoutModel",
            "_view_count": null,
            "_view_module": "@jupyter-widgets/base",
            "_view_module_version": "1.2.0",
            "_view_name": "LayoutView",
            "align_content": null,
            "align_items": null,
            "align_self": null,
            "border": null,
            "bottom": null,
            "display": null,
            "flex": null,
            "flex_flow": null,
            "grid_area": null,
            "grid_auto_columns": null,
            "grid_auto_flow": null,
            "grid_auto_rows": null,
            "grid_column": null,
            "grid_gap": null,
            "grid_row": null,
            "grid_template_areas": null,
            "grid_template_columns": null,
            "grid_template_rows": null,
            "height": null,
            "justify_content": null,
            "justify_items": null,
            "left": null,
            "margin": null,
            "max_height": null,
            "max_width": null,
            "min_height": null,
            "min_width": null,
            "object_fit": null,
            "object_position": null,
            "order": null,
            "overflow": null,
            "overflow_x": null,
            "overflow_y": null,
            "padding": null,
            "right": null,
            "top": null,
            "visibility": null,
            "width": null
          }
        },
        "c1f728caca78414ab67e57bf231d3968": {
          "model_module": "@jupyter-widgets/controls",
          "model_name": "ProgressStyleModel",
          "model_module_version": "1.5.0",
          "state": {
            "_model_module": "@jupyter-widgets/controls",
            "_model_module_version": "1.5.0",
            "_model_name": "ProgressStyleModel",
            "_view_count": null,
            "_view_module": "@jupyter-widgets/base",
            "_view_module_version": "1.2.0",
            "_view_name": "StyleView",
            "bar_color": null,
            "description_width": ""
          }
        },
        "1a7de7104b4a46ceb636c1b657ad3b40": {
          "model_module": "@jupyter-widgets/base",
          "model_name": "LayoutModel",
          "model_module_version": "1.2.0",
          "state": {
            "_model_module": "@jupyter-widgets/base",
            "_model_module_version": "1.2.0",
            "_model_name": "LayoutModel",
            "_view_count": null,
            "_view_module": "@jupyter-widgets/base",
            "_view_module_version": "1.2.0",
            "_view_name": "LayoutView",
            "align_content": null,
            "align_items": null,
            "align_self": null,
            "border": null,
            "bottom": null,
            "display": null,
            "flex": null,
            "flex_flow": null,
            "grid_area": null,
            "grid_auto_columns": null,
            "grid_auto_flow": null,
            "grid_auto_rows": null,
            "grid_column": null,
            "grid_gap": null,
            "grid_row": null,
            "grid_template_areas": null,
            "grid_template_columns": null,
            "grid_template_rows": null,
            "height": null,
            "justify_content": null,
            "justify_items": null,
            "left": null,
            "margin": null,
            "max_height": null,
            "max_width": null,
            "min_height": null,
            "min_width": null,
            "object_fit": null,
            "object_position": null,
            "order": null,
            "overflow": null,
            "overflow_x": null,
            "overflow_y": null,
            "padding": null,
            "right": null,
            "top": null,
            "visibility": null,
            "width": null
          }
        },
        "2b835b794af743a0ba68334de9f5331b": {
          "model_module": "@jupyter-widgets/controls",
          "model_name": "DescriptionStyleModel",
          "model_module_version": "1.5.0",
          "state": {
            "_model_module": "@jupyter-widgets/controls",
            "_model_module_version": "1.5.0",
            "_model_name": "DescriptionStyleModel",
            "_view_count": null,
            "_view_module": "@jupyter-widgets/base",
            "_view_module_version": "1.2.0",
            "_view_name": "StyleView",
            "description_width": ""
          }
        }
      }
    }
  },
  "nbformat": 4,
  "nbformat_minor": 0
}